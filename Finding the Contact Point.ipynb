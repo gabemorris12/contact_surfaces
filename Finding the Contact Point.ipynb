{
 "cells": [
  {
   "cell_type": "code",
   "outputs": [],
   "source": [
    "# Imports\n",
    "import numpy as np\n",
    "import sympy as sp"
   ],
   "metadata": {
    "collapsed": false,
    "ExecuteTime": {
     "end_time": "2024-03-14T20:28:13.751092Z",
     "start_time": "2024-03-14T20:28:13.159469Z"
    }
   },
   "id": "52f60d45c62f1439",
   "execution_count": 1
  },
  {
   "cell_type": "markdown",
   "source": [
    "\\pagebreak\n",
    "\n",
    "# Introduction of the Problem\n",
    "\n",
    "Consider a patch and node that moves with time. Our goal is to determine the contact point in the reference space of the patch/element. The mapping of a reference point $(\\xi, \\eta, \\zeta)$ to the global space is given by\n",
    "\n",
    "$$\\vec{s}=\\sum_{p=0}^{n-1}\\phi_p(\\xi, \\eta, \\zeta)\\vec{s}_p$$\n",
    "\n",
    "where $\\vec{s}$ is the position in the global space and $\\vec{s}_p$ is a basis vector of the patch in the global space. If we consider the contact point to be of interest ($\\vec{s}_c$) and the fact that its position moves with time as well as the basis vectors, we can write\n",
    "\n",
    "$$\\vec{s}_c+\\dot{\\vec{s}}_c\\Delta t=\\sum_{p=0}^{n-1}\\phi_p(\\xi,\\eta, \\zeta)(\\vec{s}_p+\\dot{\\vec{s}}_p\\Delta t)$$\n",
    "\n",
    "With $\\vec{s}_c=\\langle x_s, y_s, z_s\\rangle$ (the changing positions of the slave node) and $\\vec{s}_p=\\langle x_p, y_p, z_p\\rangle$, we can write the above equation as\n",
    "\n",
    "$$\n",
    "\\begin{bmatrix}\n",
    "x_s \\\\\n",
    "y_s \\\\\n",
    "z_s\n",
    "\\end{bmatrix} +\\Delta t \\begin{bmatrix}\n",
    "\\dot{x}_s \\\\\n",
    "\\dot{y}_s \\\\\n",
    "\\dot{z}_s\n",
    "\\end{bmatrix} = \\sum_{p=0}^{n-1}\\phi_p(\\xi,\\eta, \\zeta)\\left(\n",
    "\\begin{bmatrix}\n",
    "x_p \\\\\n",
    "y_p \\\\\n",
    "z_p\n",
    "\\end{bmatrix} + \\Delta t \\begin{bmatrix}\n",
    "\\dot{x}_p \\\\\n",
    "\\dot{y}_p \\\\\n",
    "\\dot{z}_p\n",
    "\\end{bmatrix}\\right)\n",
    "$$\n",
    "\n",
    "The above results in a system of three equations and three unknowns - $\\Delta t$ and any two of $\\xi$, $\\eta$, and $\\zeta$. The one of $\\xi$, $\\eta$, and $\\zeta$ that is known is either 1 or -1. The newton-raphson scheme presented here will assume that $\\zeta$ is known, but the numerical method will need to take into account the other two cases by adjusting the order of the nodal $\\xi$, $\\eta$, and $\\zeta$ array prior to the analysis. It's as simple as moving the known value to the end of the array.\n",
    "\n",
    "After the contact point is found as well as the $\\Delta t$, the node is considered to be in contact with the patch if the following conditions are met:\n",
    "\n",
    "1. All reference coordinates $\\xi$, $\\eta$, and $\\zeta$ are between -1 and 1.\n",
    "2. The solution for $\\Delta t$ is between 0 and $dt$ (the time step of the explicit analysis).\n",
    "\n",
    "# Sympy Solution"
   ],
   "metadata": {
    "collapsed": false
   },
   "id": "be46635c33d49f5f"
  },
  {
   "cell_type": "code",
   "outputs": [
    {
     "data": {
      "text/plain": "Eq(Matrix([\n[\\Delta t*\\dot{x}_s + x_s],\n[\\Delta t*\\dot{y}_s + y_s],\n[\\Delta t*\\dot{z}_s + z_s]]), Sum(Matrix([\n[(\\Delta t*\\dot{x}(p) + x(p))*\\phi_p(xi, eta, zeta, p)],\n[(\\Delta t*\\dot{y}(p) + y(p))*\\phi_p(xi, eta, zeta, p)],\n[(\\Delta t*\\dot{z}(p) + z(p))*\\phi_p(xi, eta, zeta, p)]]), (p, 0, n - 1)))",
      "text/latex": "$\\displaystyle \\left[\\begin{matrix}\\Delta t \\dot{x}_s + x_{s}\\\\\\Delta t \\dot{y}_s + y_{s}\\\\\\Delta t \\dot{z}_s + z_{s}\\end{matrix}\\right] = \\sum_{p=0}^{n - 1} \\left[\\begin{matrix}\\left(\\Delta t \\dot{x}{\\left(p \\right)} + x{\\left(p \\right)}\\right) \\phi_{p}{\\left(\\xi,\\eta,\\zeta,p \\right)}\\\\\\left(\\Delta t \\dot{y}{\\left(p \\right)} + y{\\left(p \\right)}\\right) \\phi_{p}{\\left(\\xi,\\eta,\\zeta,p \\right)}\\\\\\left(\\Delta t \\dot{z}{\\left(p \\right)} + z{\\left(p \\right)}\\right) \\phi_{p}{\\left(\\xi,\\eta,\\zeta,p \\right)}\\end{matrix}\\right]$"
     },
     "execution_count": 2,
     "metadata": {},
     "output_type": "execute_result"
    }
   ],
   "source": [
    "# Define the variables\n",
    "p, n = sp.symbols('p n')\n",
    "xi, eta, zeta = sp.symbols('xi eta zeta')\n",
    "xs, ys, zs = sp.symbols('x_s y_s z_s')\n",
    "xs_dot, ys_dot, zs_dot = sp.symbols(r'\\dot{x}_s \\dot{y}_s \\dot{z}_s')\n",
    "xp, yp, zp, xp_dot, yp_dot, zp_dot = [sp.Function(v) for v in ['x', 'y', 'z', r'\\dot{x}', r'\\dot{y}', r'\\dot{z}']]\n",
    "del_t = sp.Symbol(r'\\Delta t')\n",
    "xi_p, eta_p, zeta_p = sp.symbols('xi_p eta_p zeta_p')\n",
    "phi_p = sp.Function(r'\\phi_p')(xi, eta, zeta, p)\n",
    "\n",
    "# Define the matrix equation\n",
    "lhs = sp.Matrix([xs, ys, zs]) + del_t*sp.Matrix([xs_dot, ys_dot, zs_dot])\n",
    "rhs = sp.Sum(phi_p*(sp.Matrix([xp(p), yp(p), zp(p)]) + del_t*sp.Matrix([xp_dot(p), yp_dot(p), zp_dot(p)])), (p, 0, n-1))\n",
    "eq1 = sp.Eq(lhs, rhs, evaluate=False)\n",
    "eq1"
   ],
   "metadata": {
    "collapsed": false,
    "ExecuteTime": {
     "end_time": "2024-03-14T20:28:13.789127Z",
     "start_time": "2024-03-14T20:28:13.752121Z"
    }
   },
   "id": "65c870a5bfa8fa1c",
   "execution_count": 2
  },
  {
   "cell_type": "markdown",
   "source": [
    "The $x(p)$, $y(p)$, $z(p)$, and so on should be interpreted as $x_p$, $y_p$, $z_p$, and so on. They are not actually functions of $p$, but this was implemented so that the `sympy` sum operation won't interpret the variable as a constant.\n",
    "\n",
    "In the vector form, the Newton-Raphson scheme is\n",
    "\n",
    "$$\n",
    "\\begin{bmatrix}\n",
    "\\xi_{i+1} \\\\\n",
    "\\eta_{i+1} \\\\\n",
    "\\Delta t_{i+1} \n",
    "\\end{bmatrix} = \\begin{bmatrix}\n",
    "\\xi_{i} \\\\\n",
    "\\eta_{i} \\\\\n",
    "\\Delta t_{i}\n",
    "\\end{bmatrix} - \\bf{J^{-1}F}\n",
    "$$"
   ],
   "metadata": {
    "collapsed": false
   },
   "id": "7dc3a912d15d7fd7"
  },
  {
   "cell_type": "code",
   "outputs": [
    {
     "data": {
      "text/plain": "Matrix([\n[-\\Delta t*\\dot{x}_s - x_s + Sum(\\Delta t*\\dot{x}(p)*\\phi_p(xi, eta, zeta, p) + \\phi_p(xi, eta, zeta, p)*x(p), (p, 0, n - 1))],\n[-\\Delta t*\\dot{y}_s - y_s + Sum(\\Delta t*\\dot{y}(p)*\\phi_p(xi, eta, zeta, p) + \\phi_p(xi, eta, zeta, p)*y(p), (p, 0, n - 1))],\n[-\\Delta t*\\dot{z}_s - z_s + Sum(\\Delta t*\\dot{z}(p)*\\phi_p(xi, eta, zeta, p) + \\phi_p(xi, eta, zeta, p)*z(p), (p, 0, n - 1))]])",
      "text/latex": "$\\displaystyle \\left[\\begin{matrix}- \\Delta t \\dot{x}_s - x_{s} + \\sum_{p=0}^{n - 1} \\left(\\Delta t \\dot{x}{\\left(p \\right)} \\phi_{p}{\\left(\\xi,\\eta,\\zeta,p \\right)} + \\phi_{p}{\\left(\\xi,\\eta,\\zeta,p \\right)} x{\\left(p \\right)}\\right)\\\\- \\Delta t \\dot{y}_s - y_{s} + \\sum_{p=0}^{n - 1} \\left(\\Delta t \\dot{y}{\\left(p \\right)} \\phi_{p}{\\left(\\xi,\\eta,\\zeta,p \\right)} + \\phi_{p}{\\left(\\xi,\\eta,\\zeta,p \\right)} y{\\left(p \\right)}\\right)\\\\- \\Delta t \\dot{z}_s - z_{s} + \\sum_{p=0}^{n - 1} \\left(\\Delta t \\dot{z}{\\left(p \\right)} \\phi_{p}{\\left(\\xi,\\eta,\\zeta,p \\right)} + \\phi_{p}{\\left(\\xi,\\eta,\\zeta,p \\right)} z{\\left(p \\right)}\\right)\\end{matrix}\\right]$"
     },
     "execution_count": 3,
     "metadata": {},
     "output_type": "execute_result"
    }
   ],
   "source": [
    "# Constructing the vector function F\n",
    "F = eq1.rhs.doit() - eq1.lhs\n",
    "F"
   ],
   "metadata": {
    "collapsed": false,
    "ExecuteTime": {
     "end_time": "2024-03-14T20:28:14.192943Z",
     "start_time": "2024-03-14T20:28:13.789127Z"
    }
   },
   "id": "21522c6f6fdf2441",
   "execution_count": 3
  },
  {
   "cell_type": "code",
   "outputs": [
    {
     "data": {
      "text/plain": "Matrix([\n[Sum(\\Delta t*\\dot{x}(p)*Derivative(\\phi_p(xi, eta, zeta, p), xi) + x(p)*Derivative(\\phi_p(xi, eta, zeta, p), xi), (p, 0, n - 1)), Sum(\\Delta t*\\dot{x}(p)*Derivative(\\phi_p(xi, eta, zeta, p), eta) + x(p)*Derivative(\\phi_p(xi, eta, zeta, p), eta), (p, 0, n - 1)), -\\dot{x}_s + Sum(\\dot{x}(p)*\\phi_p(xi, eta, zeta, p), (p, 0, n - 1))],\n[Sum(\\Delta t*\\dot{y}(p)*Derivative(\\phi_p(xi, eta, zeta, p), xi) + y(p)*Derivative(\\phi_p(xi, eta, zeta, p), xi), (p, 0, n - 1)), Sum(\\Delta t*\\dot{y}(p)*Derivative(\\phi_p(xi, eta, zeta, p), eta) + y(p)*Derivative(\\phi_p(xi, eta, zeta, p), eta), (p, 0, n - 1)), -\\dot{y}_s + Sum(\\dot{y}(p)*\\phi_p(xi, eta, zeta, p), (p, 0, n - 1))],\n[Sum(\\Delta t*\\dot{z}(p)*Derivative(\\phi_p(xi, eta, zeta, p), xi) + z(p)*Derivative(\\phi_p(xi, eta, zeta, p), xi), (p, 0, n - 1)), Sum(\\Delta t*\\dot{z}(p)*Derivative(\\phi_p(xi, eta, zeta, p), eta) + z(p)*Derivative(\\phi_p(xi, eta, zeta, p), eta), (p, 0, n - 1)), -\\dot{z}_s + Sum(\\dot{z}(p)*\\phi_p(xi, eta, zeta, p), (p, 0, n - 1))]])",
      "text/latex": "$\\displaystyle \\left[\\begin{matrix}\\sum_{p=0}^{n - 1} \\left(\\Delta t \\dot{x}{\\left(p \\right)} \\frac{\\partial}{\\partial \\xi} \\phi_{p}{\\left(\\xi,\\eta,\\zeta,p \\right)} + x{\\left(p \\right)} \\frac{\\partial}{\\partial \\xi} \\phi_{p}{\\left(\\xi,\\eta,\\zeta,p \\right)}\\right) & \\sum_{p=0}^{n - 1} \\left(\\Delta t \\dot{x}{\\left(p \\right)} \\frac{\\partial}{\\partial \\eta} \\phi_{p}{\\left(\\xi,\\eta,\\zeta,p \\right)} + x{\\left(p \\right)} \\frac{\\partial}{\\partial \\eta} \\phi_{p}{\\left(\\xi,\\eta,\\zeta,p \\right)}\\right) & - \\dot{x}_s + \\sum_{p=0}^{n - 1} \\dot{x}{\\left(p \\right)} \\phi_{p}{\\left(\\xi,\\eta,\\zeta,p \\right)}\\\\\\sum_{p=0}^{n - 1} \\left(\\Delta t \\dot{y}{\\left(p \\right)} \\frac{\\partial}{\\partial \\xi} \\phi_{p}{\\left(\\xi,\\eta,\\zeta,p \\right)} + y{\\left(p \\right)} \\frac{\\partial}{\\partial \\xi} \\phi_{p}{\\left(\\xi,\\eta,\\zeta,p \\right)}\\right) & \\sum_{p=0}^{n - 1} \\left(\\Delta t \\dot{y}{\\left(p \\right)} \\frac{\\partial}{\\partial \\eta} \\phi_{p}{\\left(\\xi,\\eta,\\zeta,p \\right)} + y{\\left(p \\right)} \\frac{\\partial}{\\partial \\eta} \\phi_{p}{\\left(\\xi,\\eta,\\zeta,p \\right)}\\right) & - \\dot{y}_s + \\sum_{p=0}^{n - 1} \\dot{y}{\\left(p \\right)} \\phi_{p}{\\left(\\xi,\\eta,\\zeta,p \\right)}\\\\\\sum_{p=0}^{n - 1} \\left(\\Delta t \\dot{z}{\\left(p \\right)} \\frac{\\partial}{\\partial \\xi} \\phi_{p}{\\left(\\xi,\\eta,\\zeta,p \\right)} + z{\\left(p \\right)} \\frac{\\partial}{\\partial \\xi} \\phi_{p}{\\left(\\xi,\\eta,\\zeta,p \\right)}\\right) & \\sum_{p=0}^{n - 1} \\left(\\Delta t \\dot{z}{\\left(p \\right)} \\frac{\\partial}{\\partial \\eta} \\phi_{p}{\\left(\\xi,\\eta,\\zeta,p \\right)} + z{\\left(p \\right)} \\frac{\\partial}{\\partial \\eta} \\phi_{p}{\\left(\\xi,\\eta,\\zeta,p \\right)}\\right) & - \\dot{z}_s + \\sum_{p=0}^{n - 1} \\dot{z}{\\left(p \\right)} \\phi_{p}{\\left(\\xi,\\eta,\\zeta,p \\right)}\\end{matrix}\\right]$"
     },
     "execution_count": 4,
     "metadata": {},
     "output_type": "execute_result"
    }
   ],
   "source": [
    "# Constructing the Jacobian matrix J\n",
    "J = F.jacobian([xi, eta, del_t])\n",
    "J"
   ],
   "metadata": {
    "collapsed": false,
    "ExecuteTime": {
     "end_time": "2024-03-14T20:28:14.236547Z",
     "start_time": "2024-03-14T20:28:14.194007Z"
    }
   },
   "id": "1790baf156b84db",
   "execution_count": 4
  },
  {
   "cell_type": "markdown",
   "source": [
    "It's a bit hard to see in the PDF, but here's a better look:\n",
    "\n",
    "$$\n",
    "\\left[\\begin{smallmatrix}\\sum_{p=0}^{n - 1} \\left(\\Delta t \\dot{x}_p \\frac{\\partial}{\\partial \\xi} \\phi_{p}{\\left(\\xi,\\eta,\\zeta\\right)} + x_p \\frac{\\partial}{\\partial \\xi} \\phi_{p}{\\left(\\xi,\\eta,\\zeta\\right)}\\right) & \\sum_{p=0}^{n - 1} \\left(\\Delta t \\dot{x}_p \\frac{\\partial}{\\partial \\eta} \\phi_{p}{\\left(\\xi,\\eta,\\zeta\\right)} + x_p \\frac{\\partial}{\\partial \\eta} \\phi_{p}{\\left(\\xi,\\eta,\\zeta\\right)}\\right) & - \\dot{x}_s + \\sum_{p=0}^{n - 1} \\dot{x}_p \\phi_{p}{\\left(\\xi,\\eta,\\zeta\\right)}\\\\\\sum_{p=0}^{n - 1} \\left(\\Delta t \\dot{y}_p \\frac{\\partial}{\\partial \\xi} \\phi_{p}{\\left(\\xi,\\eta,\\zeta\\right)} + y_p \\frac{\\partial}{\\partial \\xi} \\phi_{p}{\\left(\\xi,\\eta,\\zeta\\right)}\\right) & \\sum_{p=0}^{n - 1} \\left(\\Delta t \\dot{y}_p \\frac{\\partial}{\\partial \\eta} \\phi_{p}{\\left(\\xi,\\eta,\\zeta\\right)} + y_p \\frac{\\partial}{\\partial \\eta} \\phi_{p}{\\left(\\xi,\\eta,\\zeta\\right)}\\right) & - \\dot{y}_s + \\sum_{p=0}^{n - 1} \\dot{y}_p \\phi_{p}{\\left(\\xi,\\eta,\\zeta\\right)}\\\\\\sum_{p=0}^{n - 1} \\left(\\Delta t \\dot{z}_p \\frac{\\partial}{\\partial \\xi} \\phi_{p}{\\left(\\xi,\\eta,\\zeta\\right)} + z_p \\frac{\\partial}{\\partial \\xi} \\phi_{p}{\\left(\\xi,\\eta,\\zeta\\right)}\\right) & \\sum_{p=0}^{n - 1} \\left(\\Delta t \\dot{z}_p \\frac{\\partial}{\\partial \\eta} \\phi_{p}{\\left(\\xi,\\eta,\\zeta\\right)} + z_p \\frac{\\partial}{\\partial \\eta} \\phi_{p}{\\left(\\xi,\\eta,\\zeta\\right)}\\right) & - \\dot{z}_s + \\sum_{p=0}^{n - 1} \\dot{z}_p \\phi_{p}{\\left(\\xi,\\eta,\\zeta\\right)}\\end{smallmatrix}\\right]\n",
    "$$"
   ],
   "metadata": {
    "collapsed": false
   },
   "id": "7f44b57e2a9cfaac"
  },
  {
   "cell_type": "code",
   "outputs": [
    {
     "name": "stdout",
     "output_type": "stream",
     "text": [
      "Couldn't find program: 'false'\n"
     ]
    }
   ],
   "source": [
    "%%script false\n",
    "# Constructing the inverse of the Jacobian matrix\n",
    "J_inv = J.inv()\n",
    "J_inv  # Takes about two minutes to complete"
   ],
   "metadata": {
    "collapsed": false,
    "ExecuteTime": {
     "end_time": "2024-03-14T20:28:14.245574Z",
     "start_time": "2024-03-14T20:28:14.237554Z"
    }
   },
   "id": "1e5dd5cefd3455b4",
   "execution_count": 5
  },
  {
   "cell_type": "markdown",
   "source": [
    "Further observation of the above inverse matrix shows that there are more common terms that can be re-used in other elements of the matrix."
   ],
   "metadata": {
    "collapsed": false
   },
   "id": "703affcba2a3794c"
  },
  {
   "cell_type": "code",
   "outputs": [
    {
     "name": "stdout",
     "output_type": "stream",
     "text": [
      "Couldn't find program: 'false'\n"
     ]
    }
   ],
   "source": [
    "%%script false\n",
    "# Cleaning up the inverse of the Jacobian matrix\n",
    "# We can loop through each term of each numerator and define a new symbol for each summation entity\n",
    "J_inv_cleaned = J_inv\n",
    "r, c = J_inv_cleaned.shape\n",
    "sym_counter = 0\n",
    "a = []\n",
    "for i in range(r):\n",
    "    for j in range(c):\n",
    "        num, _ = sp.fraction(J_inv_cleaned[i, j])  # Get the numerator\n",
    "        for term in num.args:  # Loop through each term of the numerator\n",
    "            for entity in term.args:  # For each term, find the summation symbol\n",
    "                if isinstance(entity, sp.Sum):\n",
    "                    new_sym = sp.Symbol(f'a_{sym_counter}')\n",
    "                    J_inv_cleaned = J_inv_cleaned.subs(entity, new_sym)\n",
    "                    sym_counter += 1\n",
    "                    a.append(entity)\n",
    "                    display(sp.Eq(new_sym, entity))\n",
    "                    \n",
    "# Cleaning up the denominator\n",
    "J_inv_cleaned = J_inv_cleaned.simplify()\n",
    "_, d = sp.fraction(J_inv_cleaned[0, 0])\n",
    "J_inv_cleaned = J_inv_cleaned.subs(d, sp.Symbol('d'))\n",
    "display(sp.Eq(sp.Symbol('d'), d))\n",
    "display(J_inv_cleaned)"
   ],
   "metadata": {
    "collapsed": false,
    "ExecuteTime": {
     "end_time": "2024-03-14T20:28:14.251313Z",
     "start_time": "2024-03-14T20:28:14.246580Z"
    }
   },
   "id": "a5290ec84c180a66",
   "execution_count": 6
  },
  {
   "cell_type": "markdown",
   "source": [
    "The above cleaned inverse Jacobian matrix can be used for the case where there is no matrix inverse operation in the code base. Otherwise, just compute the Jacobian numerically, then take the inverse of the Jacobian numerically.\n",
    "\n",
    "## Linear Hex Element Shape Functions\n",
    "\n",
    "For a linear hex element, the shape function is\n",
    "\n",
    "$$\\phi_p(\\xi,\\eta,\\zeta)=\\frac{1}{8}(1+\\xi\\xi_p)(1+\\eta\\eta_p)(1+\\zeta\\zeta_p)$$\n",
    "\n",
    "The first order partial derivatives also need to be found."
   ],
   "metadata": {
    "collapsed": false
   },
   "id": "ed37dc871d0d8a84"
  },
  {
   "cell_type": "code",
   "outputs": [
    {
     "data": {
      "text/plain": "Eq(\\phi_p(xi, eta, zeta), (eta*eta_p + 1)*(xi*xi_p + 1)*(zeta*zeta_p + 1)/8)",
      "text/latex": "$\\displaystyle \\phi_{p}{\\left(\\xi,\\eta,\\zeta \\right)} = \\frac{\\left(\\eta \\eta_{p} + 1\\right) \\left(\\xi \\xi_{p} + 1\\right) \\left(\\zeta \\zeta_{p} + 1\\right)}{8}$"
     },
     "execution_count": 7,
     "metadata": {},
     "output_type": "execute_result"
    }
   ],
   "source": [
    "# Define the shape function\n",
    "phi_p_sym = sp.Function(r'\\phi_p')(xi, eta, zeta)\n",
    "phi_p = (sp.Rational(1, 8)*(1 + xi*xi_p)*(1 + eta*eta_p)*(1 + zeta*zeta_p)).simplify()\n",
    "sp.Eq(phi_p_sym, phi_p)"
   ],
   "metadata": {
    "collapsed": false,
    "ExecuteTime": {
     "end_time": "2024-03-14T20:28:14.403786Z",
     "start_time": "2024-03-14T20:28:14.252320Z"
    }
   },
   "id": "421ab77a4e36aac6",
   "execution_count": 7
  },
  {
   "cell_type": "code",
   "outputs": [
    {
     "data": {
      "text/plain": "Eq(Derivative(\\phi_p(xi, eta, zeta), xi), xi_p*(eta*eta_p + 1)*(zeta*zeta_p + 1)/8)",
      "text/latex": "$\\displaystyle \\frac{\\partial}{\\partial \\xi} \\phi_{p}{\\left(\\xi,\\eta,\\zeta \\right)} = \\frac{\\xi_{p} \\left(\\eta \\eta_{p} + 1\\right) \\left(\\zeta \\zeta_{p} + 1\\right)}{8}$"
     },
     "metadata": {},
     "output_type": "display_data"
    },
    {
     "data": {
      "text/plain": "Eq(Derivative(\\phi_p(xi, eta, zeta), eta), eta_p*(xi*xi_p + 1)*(zeta*zeta_p + 1)/8)",
      "text/latex": "$\\displaystyle \\frac{\\partial}{\\partial \\eta} \\phi_{p}{\\left(\\xi,\\eta,\\zeta \\right)} = \\frac{\\eta_{p} \\left(\\xi \\xi_{p} + 1\\right) \\left(\\zeta \\zeta_{p} + 1\\right)}{8}$"
     },
     "metadata": {},
     "output_type": "display_data"
    }
   ],
   "source": [
    "# Partial derivatives\n",
    "display(sp.Eq(phi_p_sym.diff(xi), phi_p.diff(xi).simplify()))\n",
    "display(sp.Eq(phi_p_sym.diff(eta), phi_p.diff(eta).simplify()))"
   ],
   "metadata": {
    "collapsed": false,
    "ExecuteTime": {
     "end_time": "2024-03-14T20:28:14.463059Z",
     "start_time": "2024-03-14T20:28:14.404791Z"
    }
   },
   "id": "f3435033347a5868",
   "execution_count": 8
  },
  {
   "cell_type": "markdown",
   "source": [
    "# Numerical Solution"
   ],
   "metadata": {
    "collapsed": false
   },
   "id": "5642663b2214f9d4"
  },
  {
   "cell_type": "code",
   "outputs": [],
   "source": [
    "# Define a Node datastructure\n",
    "class Node:\n",
    "    def __init__(self, pos, vel, ref_pos):\n",
    "        \"\"\"\n",
    "        :param pos: Physical position array \n",
    "        :param vel: Physical velocity array\n",
    "        :param ref_pos: Reference position array\n",
    "        \"\"\"\n",
    "        self.pos = pos\n",
    "        self.vel = vel\n",
    "        self.ref_pos = ref_pos\n",
    "        self.x, self.y, self.z = pos\n",
    "        self.xi, self.eta, self.zeta = ref_pos\n",
    "\n",
    "# Define shape functions\n",
    "def phi_p_lamb(xi_, eta_, zeta_, xi_p_, eta_p_, zeta_p_):\n",
    "    return (1/8)*(1 + xi_*xi_p_)*(1 + eta_*eta_p_)*(1 + zeta_*zeta_p_)\n",
    "\n",
    "def diff_xi_phi_p(eta_, zeta_, xi_p_, eta_p_, zeta_p_):\n",
    "    return (1/8)*xi_p_*(1 + eta_*eta_p_)*(1 + zeta_*zeta_p_)\n",
    "\n",
    "def diff_eta_phi_p(xi_, zeta_, xi_p_, eta_p_, zeta_p_):\n",
    "    return (1/8)*eta_p_*(1 + xi_*xi_p_)*(1 + zeta_*zeta_p_)\n",
    "\n",
    "# Define the vector function F\n",
    "def F_lamb(x, sc, sc_dot, sp_vec, sp_dot, xi_p_, eta_p_, zeta_p_):\n",
    "    \"\"\"\n",
    "    Compute the F array\n",
    "    \n",
    "    :param x: np.array; The array of unknowns that is being solved for. If zeta is known, then x = [xi, eta, t_del].\n",
    "    :param sc: np.array; The position of the contact point in the global space; sc = [x_s, y_s, z_s].\n",
    "    :param sc_dot: np.array; The velocity of the contact point in the global space; sc_dot = [x_s_dot, y_s_dot, z_s_dot].\n",
    "    :param sp_vec: np.array; The position of the nodes of the patch in the global space; sp_vec = [[x_0, y_0, z_0], [x_1, y_1, z_1], ...].\n",
    "    :param sp_dot: np.array; The velocity of the nodes of the patch in the global space; sp_dot = [[x0_dot, y0_dot, z0_dot], [x1_dot, y1_dot, z1_dot], ...].\n",
    "    :param xi_p_: np.array; The xi coordinates of the nodes of the patch in the reference space. xi_p_ = [xi_0, xi_1, ...].\n",
    "    :param eta_p_: np.array; The eta coordinates of the nodes of the patch in the reference space. eta_p_ = [eta_0, eta_1, ...].\n",
    "    :param zeta_p_: np.array; The zeta coordinates of the nodes of the patch in the reference space. zeta_p_ = [zeta_0, zeta_1, ...]. These should all be the same value of 1 or -1.\n",
    "    :return: np.array; The F array.\n",
    "    \"\"\"\n",
    "    xi_, eta_, t_del = x\n",
    "    # zeta_p_ is repeated twice here because zeta=zeta_p. This is the known reference surface.\n",
    "    phi_p_loc = phi_p_lamb(xi_, eta_, zeta_p_, xi_p_, eta_p_, zeta_p_)\n",
    "    rhs_ = np.sum(phi_p_loc[:, None]*(sp_vec + t_del * sp_dot), axis=0)\n",
    "    lhs_ = sc + t_del * sc_dot\n",
    "    return rhs_ - lhs_\n",
    "\n",
    "# Define the Jacobian matrix\n",
    "def jac(x, sc_dot, sp_vec, sp_dot, xi_p_, eta_p_, zeta_p_):\n",
    "    \"\"\"\n",
    "    Compute the Jacobian matrix\n",
    "    \n",
    "    :param x: np.array; The array of unknowns that is being solved for. If zeta is known, then x = [xi, eta, t_del].\n",
    "    :param sc_dot: np.array; The velocity of the contact point in the global space; sc_dot = [x_s_dot, y_s_dot, z_s_dot].\n",
    "    :param sp_vec: np.array; The position of the nodes of the patch in the global space; sp_vec = [[x_0, y_0, z_0], [x_1, y_1, z_1], ...].\n",
    "    :param sp_dot: np.array; The velocity of the nodes of the patch in the global space; sp_dot = [[x0_dot, y0_dot, z0_dot], [x1_dot, y1_dot, z1_dot], ...].\n",
    "    :param xi_p_: np.array; The xi coordinates of the nodes of the patch in the reference space. xi_p_ = [xi_0, xi_1, ...].\n",
    "    :param eta_p_: np.array; The eta coordinates of the nodes of the patch in the reference space. eta_p_ = [eta_0, eta_1, ...].\n",
    "    :param zeta_p_: np.array; The zeta coordinates of the nodes of the patch in the reference space. zeta_p_ = [zeta_0, zeta_1, ...]. These should all be the same value of 1 or -1.\n",
    "    :return: np.array; The Jacobian matrix.\n",
    "    \"\"\"\n",
    "    xi_, eta_, t_del = x\n",
    "    # zeta_p_ is repeated twice here because zeta=zeta_p. This is the known reference surface.\n",
    "    phi_p_loc = phi_p_lamb(xi_, eta_, zeta_p_, xi_p_, eta_p_, zeta_p_)\n",
    "    d_phi_p_d_xi = diff_xi_phi_p(eta_, zeta_p_, xi_p_, eta_p_, zeta_p_)\n",
    "    d_phi_p_d_eta = diff_eta_phi_p(xi_, zeta_p_, xi_p_, eta_p_, zeta_p_)\n",
    "    xp_d, yp_d, zp_d = sp_dot[:, 0], sp_dot[:, 1], sp_dot[:, 2]\n",
    "    xp_, yp_, zp_ = sp_vec[:, 0], sp_vec[:, 1], sp_vec[:, 2]\n",
    "    xs_d, ys_d, zs_d = sc_dot\n",
    "    jac_ = np.array([\n",
    "        [sum(d_phi_p_d_xi*(xp_ + t_del*xp_d)), sum(d_phi_p_d_eta*(xp_ + t_del*xp_d)), sum(phi_p_loc*xp_d) - xs_d],\n",
    "        [sum(d_phi_p_d_xi*(yp_ + t_del*yp_d)), sum(d_phi_p_d_eta*(yp_ + t_del*yp_d)), sum(phi_p_loc*yp_d) - ys_d],\n",
    "        [sum(d_phi_p_d_xi*(zp_ + t_del*zp_d)), sum(d_phi_p_d_eta*(zp_ + t_del*zp_d)), sum(phi_p_loc*zp_d) - zs_d]\n",
    "    ])\n",
    "    return jac_\n",
    "\n",
    "# Define the Newton-Raphson scheme\n",
    "def newton_raphson(guess, patch_nodes, slave_node, tol=1e-10, max_iter=100):\n",
    "    \"\"\"\n",
    "    Compute the Newton-Raphson scheme\n",
    "    \n",
    "    :param guess: np.array; The initial guess for the unknowns. If zeta is known, then guess = [xi, eta, t_del]. \n",
    "    :param patch_nodes: list[Node]; The list of Node objects that define a patch.\n",
    "    :param slave_node: Node; The Node object that defines the slave node.\n",
    "    :param tol: float; The tolerance for the solution.\n",
    "    :param max_iter: int; The maximum number of iterations.\n",
    "    :return: np.array; The solution for [xi, eta, t_del].\n",
    "    \"\"\"\n",
    "    sol = guess\n",
    "    sc = slave_node.pos\n",
    "    sc_dot = slave_node.vel\n",
    "    sp_vec = np.array([node.pos for node in patch_nodes])\n",
    "    sp_dot = np.array([node.vel for node in patch_nodes])\n",
    "    xi_p_ = np.array([node.xi for node in patch_nodes])\n",
    "    eta_p_ = np.array([node.eta for node in patch_nodes])\n",
    "    zeta_p_ = np.array([node.zeta for node in patch_nodes])\n",
    "    \n",
    "    for k in range(max_iter):\n",
    "        f = F_lamb(sol, sc, sc_dot, sp_vec, sp_dot, xi_p_, eta_p_, zeta_p_)\n",
    "        jac_ = jac(sol, sc_dot, sp_vec, sp_dot, xi_p_, eta_p_, zeta_p_)\n",
    "        sol = sol - np.linalg.inv(jac_) @ f\n",
    "        \n",
    "        if np.linalg.norm(f) < tol:\n",
    "            break\n",
    "\n",
    "    # noinspection PyUnboundLocalVariable\n",
    "    return sol, k"
   ],
   "metadata": {
    "collapsed": false,
    "ExecuteTime": {
     "end_time": "2024-03-14T20:28:14.481695Z",
     "start_time": "2024-03-14T20:28:14.464093Z"
    }
   },
   "id": "f21655e005df2740",
   "execution_count": 9
  },
  {
   "cell_type": "markdown",
   "source": [
    "# Example Problem"
   ],
   "metadata": {
    "collapsed": false
   },
   "id": "9c19f564645b4a49"
  },
  {
   "cell_type": "code",
   "outputs": [
    {
     "data": {
      "text/plain": "(array([ 0.34774981, -0.41631963,  0.08798188]), 3)"
     },
     "execution_count": 10,
     "metadata": {},
     "output_type": "execute_result"
    }
   ],
   "source": [
    "# Making an example problem\n",
    "# Define points that make up the patch and the reference point associated with it\n",
    "points = np.array([\n",
    "    [0.5, 0.5, 1, -1, -1, 1],\n",
    "    [1, 0.5, 2, 1, -1, 1],\n",
    "    [1, 1, 3, 1, 1, 1],\n",
    "    [0.5, 1, 2, -1, 1, 1]\n",
    "])\n",
    "\n",
    "# Define velocity for points\n",
    "vels = np.array([\n",
    "    [0.12, 0.08, -0.05],\n",
    "    [0.7*3, 0.75*3, -0.25*3],\n",
    "    [-0.06, -0.03, -0.34],\n",
    "    [-0.065, -0.035, -0.42]\n",
    "])\n",
    "\n",
    "test_node = Node(np.array([0.75, 0.75, 1]), np.array([2, -0.1, 10.5]), [None, None, None])\n",
    "nodes = [Node(point[:3], vel, point[3:]) for point, vel in zip(points, vels)]\n",
    "newton_raphson([0.5, -0.5, 0.05], nodes, test_node)"
   ],
   "metadata": {
    "collapsed": false,
    "ExecuteTime": {
     "end_time": "2024-03-14T20:28:14.489844Z",
     "start_time": "2024-03-14T20:28:14.482793Z"
    }
   },
   "id": "4d118785336121f9",
   "execution_count": 10
  },
  {
   "cell_type": "markdown",
   "source": [
    "This is the correct result."
   ],
   "metadata": {
    "collapsed": false
   },
   "id": "c63bd576c698480f"
  }
 ],
 "metadata": {
  "kernelspec": {
   "display_name": "Python 3",
   "language": "python",
   "name": "python3"
  },
  "language_info": {
   "codemirror_mode": {
    "name": "ipython",
    "version": 2
   },
   "file_extension": ".py",
   "mimetype": "text/x-python",
   "name": "python",
   "nbconvert_exporter": "python",
   "pygments_lexer": "ipython2",
   "version": "2.7.6"
  }
 },
 "nbformat": 4,
 "nbformat_minor": 5
}
