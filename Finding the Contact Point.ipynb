{
 "cells": [
  {
   "cell_type": "code",
   "outputs": [],
   "source": [
    "# Imports\n",
    "import sympy as sp\n",
    "\n",
    "p_s, v_s, a_s = sp.symbols(r'\\vec{p}_s \\vec{v}_s \\vec{a}_s')\n",
    "k, n = sp.symbols(r'k n')\n",
    "del_t = sp.Symbol(r'\\Delta t')\n",
    "xi, eta = sp.symbols(r'\\xi \\eta')\n",
    "p_k, v_k, a_k = sp.symbols(r'\\vec{p}_k \\vec{v}_k \\vec{a}_k')\n",
    "phi_k = sp.Function(r'\\phi_k')(xi, eta)"
   ],
   "metadata": {
    "collapsed": false,
    "ExecuteTime": {
     "end_time": "2024-04-03T19:34:53.313606Z",
     "start_time": "2024-04-03T19:34:52.941234Z"
    }
   },
   "id": "52f60d45c62f1439",
   "execution_count": 1
  },
  {
   "cell_type": "markdown",
   "source": [
    "\\pagebreak\n",
    "\n",
    "# Introduction of the Problem\n",
    "\n",
    "Consider a patch and node that moves with time. Our goal is to determine the contact point in the reference space of the patch/element. The mapping of a reference point $(\\xi, \\eta)$ to the global space is given by\n",
    "\n",
    "$$\\vec{s}=\\sum_{p=0}^{n-1}\\phi_p(\\xi, \\eta)\\vec{s}_p$$\n",
    "\n",
    "where $\\vec{s}$ is the position in the global space and $\\vec{s}_p$ is a basis vector of the patch in the global space. If we consider the contact point to be of interest ($\\vec{s}_c$) and the fact that its position moves with time as well as the basis vectors, we can write\n",
    "\n",
    "$$\\vec{p}_s + \\vec{v}_s\\Delta t + \\frac{1}{2}\\vec{a}_s\\Delta t^2=\\sum_{k=0}^{n-1}\\phi_k(\\xi,\\eta)(\\vec{p}_k + \\vec{v}_k\\Delta t + \\frac{1}{2}\\vec{a}_k\\Delta t^2)$$\n",
    "\n",
    "where $p$, $v$, and $a$ are the position, velocity, and acceleration vectors, respectively. The subscript $s$ denotes the slave node, and the subscript $k$ denotes the patch nodes. This relationship can be re-written as a matrix multiplication like so\n",
    "\n",
    "$$\n",
    "\\vec{p}_s + \\vec{v}_s\\Delta t + \\frac{1}{2}\\vec{a}_s\\Delta t^2 = \n",
    "\\underbrace{\n",
    "\\begin{bmatrix}\n",
    "p_{x0}+v_{x0}\\Delta t + \\frac{1}{2}a_{x0}\\Delta t^2 & p_{x1}+v_{x1}\\Delta t + \\frac{1}{2}a_{x1}\\Delta t^2 & \\cdots \\\\\n",
    "p_{y0}+v_{y0}\\Delta t + \\frac{1}{2}a_{y0}\\Delta t^2 & p_{y1}+v_{y1}\\Delta t + \\frac{1}{2}a_{y1}\\Delta t^2 & \\cdots \\\\\n",
    "p_{z0}+v_{z0}\\Delta t + \\frac{1}{2}a_{z0}\\Delta t^2 & p_{z1}+v_{z1}\\Delta t + \\frac{1}{2}a_{z1}\\Delta t^2 & \\cdots\n",
    "\\end{bmatrix}\n",
    "}_{A}\n",
    "\\begin{bmatrix}\n",
    "\\phi_0(\\xi,\\eta) \\\\\n",
    "\\phi_1(\\xi,\\eta) \\\\\n",
    "\\vdots \\\\\n",
    "\\phi_{n - 1}(\\xi,\\eta)\n",
    "\\end{bmatrix}\n",
    "$$\n",
    "\n",
    "The above results in a system of three equations and three unknowns - $\\xi$, $\\eta$, and $\\Delta t$.\n",
    "\n",
    "After the contact point is found as well as the $\\Delta t$, the node is considered to be in contact with the patch if the following conditions are met:\n",
    "\n",
    "1. All reference coordinates ($\\xi$, $\\eta$) are between -1 and 1.\n",
    "2. The solution for $\\Delta t$ is between 0 and $dt$ (the time step of the explicit analysis).\n",
    "\n",
    "# Sympy Solution"
   ],
   "metadata": {
    "collapsed": false
   },
   "id": "be46635c33d49f5f"
  },
  {
   "cell_type": "code",
   "outputs": [
    {
     "data": {
      "text/plain": "Eq(\\Delta t**2*\\vec{a}_s/2 + \\Delta t*\\vec{v}_s + \\vec{p}_s, Sum((\\Delta t**2*\\vec{a}_k/2 + \\Delta t*\\vec{v}_k + \\vec{p}_k)*\\phi_k(\\xi, \\eta), (k, 0, n - 1)))",
      "text/latex": "$\\displaystyle \\frac{\\Delta t^{2} \\vec{a}_s}{2} + \\Delta t \\vec{v}_s + \\vec{p}_s = \\sum_{k=0}^{n - 1} \\left(\\frac{\\Delta t^{2} \\vec{a}_k}{2} + \\Delta t \\vec{v}_k + \\vec{p}_k\\right) \\phi_{k}{\\left(\\xi,\\eta \\right)}$"
     },
     "execution_count": 2,
     "metadata": {},
     "output_type": "execute_result"
    }
   ],
   "source": [
    "eq1 = sp.Eq(p_s + v_s*del_t + sp.Rational(1, 2)*a_s*del_t**2, sp.Sum(phi_k*(p_k + v_k*del_t + sp.Rational(1, 2)*a_k*del_t**2), (k, 0, n-1)))\n",
    "eq1"
   ],
   "metadata": {
    "collapsed": false,
    "ExecuteTime": {
     "end_time": "2024-04-03T19:34:53.366290Z",
     "start_time": "2024-04-03T19:34:53.315181Z"
    }
   },
   "id": "65c870a5bfa8fa1c",
   "execution_count": 2
  },
  {
   "cell_type": "code",
   "outputs": [
    {
     "data": {
      "text/plain": "Eq(\\Delta t**2*\\vec{a}_s/2 + \\Delta t*\\vec{v}_s + \\vec{p}_s, Matrix([[A(\\Delta t)]])*Matrix([[\\phi_k(\\xi, \\eta)]]))",
      "text/latex": "$\\displaystyle \\frac{\\Delta t^{2} \\vec{a}_s}{2} + \\Delta t \\vec{v}_s + \\vec{p}_s = \\left[\\begin{matrix}A{\\left(\\Delta t \\right)}\\end{matrix}\\right] \\left[\\begin{matrix}\\phi_{k}{\\left(\\xi,\\eta \\right)}\\end{matrix}\\right]$"
     },
     "execution_count": 3,
     "metadata": {},
     "output_type": "execute_result"
    }
   ],
   "source": [
    "# Working off the matrix form\n",
    "A = sp.Matrix([sp.Function('A')(del_t)])\n",
    "eq2 = sp.Eq(eq1.lhs, sp.MatMul(A, sp.Matrix([phi_k])), evaluate=False)\n",
    "eq2"
   ],
   "metadata": {
    "collapsed": false,
    "ExecuteTime": {
     "end_time": "2024-04-03T19:34:53.377441Z",
     "start_time": "2024-04-03T19:34:53.367448Z"
    }
   },
   "id": "36242366c1e6d863",
   "execution_count": 3
  },
  {
   "cell_type": "markdown",
   "source": [
    "In the vector form, the Newton-Raphson scheme is\n",
    "\n",
    "$$\n",
    "\\begin{bmatrix}\n",
    "\\xi_{i+1} \\\\\n",
    "\\eta_{i+1} \\\\\n",
    "\\Delta t_{i+1} \n",
    "\\end{bmatrix} = \\begin{bmatrix}\n",
    "\\xi_{i} \\\\\n",
    "\\eta_{i} \\\\\n",
    "\\Delta t_{i}\n",
    "\\end{bmatrix} - \\bf{J^{-1}F}\n",
    "$$"
   ],
   "metadata": {
    "collapsed": false
   },
   "id": "7dc3a912d15d7fd7"
  },
  {
   "cell_type": "code",
   "outputs": [
    {
     "data": {
      "text/plain": "Matrix([[-\\Delta t**2*\\vec{a}_s/2 - \\Delta t*\\vec{v}_s - \\vec{p}_s + A(\\Delta t)*\\phi_k(\\xi, \\eta)]])",
      "text/latex": "$\\displaystyle \\left[\\begin{matrix}- \\frac{\\Delta t^{2} \\vec{a}_s}{2} - \\Delta t \\vec{v}_s - \\vec{p}_s + A{\\left(\\Delta t \\right)} \\phi_{k}{\\left(\\xi,\\eta \\right)}\\end{matrix}\\right]$"
     },
     "execution_count": 4,
     "metadata": {},
     "output_type": "execute_result"
    }
   ],
   "source": [
    "# Constructing the vector function F\n",
    "F = eq2.rhs - sp.Matrix([eq2.lhs])\n",
    "F"
   ],
   "metadata": {
    "collapsed": false,
    "ExecuteTime": {
     "end_time": "2024-04-03T19:34:53.386237Z",
     "start_time": "2024-04-03T19:34:53.378513Z"
    }
   },
   "id": "21522c6f6fdf2441",
   "execution_count": 4
  },
  {
   "cell_type": "code",
   "outputs": [
    {
     "data": {
      "text/plain": "Matrix([[A(\\Delta t)*Derivative(\\phi_k(\\xi, \\eta), \\xi), A(\\Delta t)*Derivative(\\phi_k(\\xi, \\eta), \\eta), -\\Delta t*\\vec{a}_s - \\vec{v}_s + \\phi_k(\\xi, \\eta)*Derivative(A(\\Delta t), \\Delta t)]])",
      "text/latex": "$\\displaystyle \\left[\\begin{matrix}A{\\left(\\Delta t \\right)} \\frac{\\partial}{\\partial \\xi} \\phi_{k}{\\left(\\xi,\\eta \\right)} & A{\\left(\\Delta t \\right)} \\frac{\\partial}{\\partial \\eta} \\phi_{k}{\\left(\\xi,\\eta \\right)} & - \\Delta t \\vec{a}_s - \\vec{v}_s + \\phi_{k}{\\left(\\xi,\\eta \\right)} \\frac{d}{d \\Delta t} A{\\left(\\Delta t \\right)}\\end{matrix}\\right]$"
     },
     "execution_count": 5,
     "metadata": {},
     "output_type": "execute_result"
    }
   ],
   "source": [
    "# Constructing the Jacobian matrix J\n",
    "J = F.jacobian([xi, eta, del_t])\n",
    "J"
   ],
   "metadata": {
    "collapsed": false,
    "ExecuteTime": {
     "end_time": "2024-04-03T19:34:53.403461Z",
     "start_time": "2024-04-03T19:34:53.388662Z"
    }
   },
   "id": "1790baf156b84db",
   "execution_count": 5
  },
  {
   "cell_type": "markdown",
   "source": [
    "The above is correct, but the $\\frac{\\partial}{\\partial\\Delta t}A(\\Delta_t)$ must be to the left of the $\\phi_k$ vector. The $\\frac{\\partial}{\\partial \\Delta t}A$ matrix is constructed as \n",
    "\n",
    "$$\n",
    "\\frac{\\partial}{\\partial \\Delta t}A = \\begin{bmatrix}\n",
    "v_{x0} + a_{x0}\\Delta t & v_{x1} + a_{x1}\\Delta t & \\cdots \\\\\n",
    "v_{y0} + a_{y0}\\Delta t & v_{y1} + a_{y1}\\Delta t & \\cdots \\\\\n",
    "v_{z0} + a_{z0}\\Delta t & v_{z1} + a_{z1}\\Delta t & \\cdots\n",
    "\\end{bmatrix}\n",
    "$$"
   ],
   "metadata": {
    "collapsed": false
   },
   "id": "38cb59b35f1f4f24"
  }
 ],
 "metadata": {
  "kernelspec": {
   "display_name": "Python 3",
   "language": "python",
   "name": "python3"
  },
  "language_info": {
   "codemirror_mode": {
    "name": "ipython",
    "version": 2
   },
   "file_extension": ".py",
   "mimetype": "text/x-python",
   "name": "python",
   "nbconvert_exporter": "python",
   "pygments_lexer": "ipython2",
   "version": "2.7.6"
  }
 },
 "nbformat": 4,
 "nbformat_minor": 5
}
