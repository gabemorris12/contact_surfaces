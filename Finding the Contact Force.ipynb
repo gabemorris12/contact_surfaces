{
 "cells": [
  {
   "cell_type": "code",
   "outputs": [],
   "source": [
    "import sympy as sp\n",
    "\n",
    "# Defining symbols\n",
    "p_s, v_s, a_s = sp.symbols(r'\\vec{p}_s \\vec{v}_s \\vec{a}_s')\n",
    "k, n = sp.symbols(r'k n')\n",
    "del_t = sp.Symbol(r'\\Delta t')\n",
    "xi, eta = sp.symbols(r'\\xi \\eta')\n",
    "p_k, v_k, a_k = sp.symbols(r'\\vec{p}_k \\vec{v}_k \\vec{a}_k')\n",
    "phi_k = sp.Function(r'\\phi_k')(xi, eta)\n",
    "F_s, fc, R_s = sp.symbols(r'\\vec{F}_s f_c \\vec{R}_s')\n",
    "F_k, N, R_k = sp.symbols(r'\\vec{F}_k \\vec{N} \\vec{R}_k')\n",
    "m_s, m_k = sp.symbols('m_s m_k')"
   ],
   "metadata": {
    "collapsed": false,
    "ExecuteTime": {
     "end_time": "2024-04-01T21:33:50.195494Z",
     "start_time": "2024-04-01T21:33:49.624154Z"
    }
   },
   "id": "5ebfeaf51fc7aa65",
   "execution_count": 1
  },
  {
   "cell_type": "markdown",
   "source": [
    "Consider a contact pair (a patch and a single node) in which a force resolution needs to be acquired between these entities. The goal is to ensure that applied force moves the node and patch in such a way that node lies on the surface of the patch at the next time step. Such a condition can be achieved by solving the following equation:\n",
    "\n",
    "$$\\vec{p}_s+\\vec{v}_s\\Delta t + \\frac{1}{2}\\vec{a}_s\\Delta t^2=\\sum_{k=0}^{n - 1}\\phi_k(\\xi,\\eta)\\left[\\vec{p}_k+\\vec{v}_k\\Delta t + \\frac{1}{2}\\vec{a}_k\\Delta t^2\\right]$$\n",
    "\n",
    "where $p$, $v$, and $a$ are the position, velocity, and acceleration of the node and patch at the current time step, and subscript $s$ denotes the slave node while $k$ denotes the nodes that bound the master patch. Alternatively, the above equation can be represented as a matrix multiplication instead of a summation:\n",
    "\n",
    "$$\n",
    "\\vec{p}_s+\\vec{v}_s\\Delta t + \\frac{1}{2}\\vec{a}_s\\Delta t^2 = \n",
    "\\underbrace{\n",
    "\\begin{bmatrix}\n",
    "p_{x0}+v_{x0}\\Delta t + \\frac{1}{2}a_{x0}\\Delta t^2 & p_{x1}+v_{x1}\\Delta t + \\frac{1}{2}a_{x1}\\Delta t^2 & \\cdots \\\\\n",
    "p_{y0}+v_{y0}\\Delta t + \\frac{1}{2}a_{y0}\\Delta t^2 & p_{y1}+v_{y1}\\Delta t + \\frac{1}{2}a_{y1}\\Delta t^2 & \\cdots \\\\\n",
    "p_{z0}+v_{z0}\\Delta t + \\frac{1}{2}a_{z0}\\Delta t^2 & p_{z1}+v_{z1}\\Delta t + \\frac{1}{2}a_{z1}\\Delta t^2 & \\cdots\n",
    "\\end{bmatrix}\n",
    "}_{A}\n",
    "\\begin{bmatrix}\n",
    "\\phi_0(\\xi,\\eta) \\\\\n",
    "\\phi_1(\\xi,\\eta) \\\\\n",
    "\\vdots \\\\\n",
    "\\phi_n(\\xi,\\eta)\n",
    "\\end{bmatrix}\n",
    "$$\n",
    "\n",
    "The acceleration for the slave node and the master patch node can be written as:\n",
    "\n",
    "$$\n",
    "\\begin{gathered}\n",
    "\\vec{a}_s= \\frac{\\vec{F}_s + f_c\\vec{N}+\\vec{R}_s}{m_s} \\\\\n",
    "\\vec{a}_k= \\frac{\\vec{F}_k - f_c\\vec{N}\\cdot \\phi_k(\\xi, \\eta)+\\vec{R}_k}{m_k}\n",
    "\\end{gathered}\n",
    "$$\n",
    "\n",
    "where $\\vec{F}$ is the internal force known prior to the analysis, $f_c$ is the incremental contact force between the current node and the patch, and $\\vec{R}$ is the force due to other contact pairs. $\\vec{N}$ is the unit normal at the contact point $(\\xi, \\eta)$ and must be in the outward direction of the patch, facing the non-penetrated slave node.\n",
    "\n",
    "$$N=\\frac{\\partial p / \\partial \\xi \\times \\partial p / \\partial \\eta}{|\\partial p / \\partial \\xi \\times \\partial p / \\partial \\eta|}$$"
   ],
   "metadata": {
    "collapsed": false
   },
   "id": "adbe9bf8dcdcbec0"
  },
  {
   "cell_type": "code",
   "outputs": [
    {
     "data": {
      "text/plain": "Eq(\\Delta t**2*\\vec{a}_s/2 + \\Delta t*\\vec{v}_s + \\vec{p}_s, Sum((\\Delta t**2*\\vec{a}_k/2 + \\Delta t*\\vec{v}_k + \\vec{p}_k)*\\phi_k(\\xi, \\eta), (k, 0, n - 1)))",
      "text/latex": "$\\displaystyle \\frac{\\Delta t^{2} \\vec{a}_s}{2} + \\Delta t \\vec{v}_s + \\vec{p}_s = \\sum_{k=0}^{n - 1} \\left(\\frac{\\Delta t^{2} \\vec{a}_k}{2} + \\Delta t \\vec{v}_k + \\vec{p}_k\\right) \\phi_{k}{\\left(\\xi,\\eta \\right)}$"
     },
     "execution_count": 2,
     "metadata": {},
     "output_type": "execute_result"
    }
   ],
   "source": [
    "eq1 = sp.Eq(p_s + v_s*del_t + sp.Rational(1, 2)*a_s*del_t**2, sp.Sum(phi_k*(p_k + v_k*del_t + sp.Rational(1, 2)*a_k*del_t**2), (k, 0, n-1)))\n",
    "eq1"
   ],
   "metadata": {
    "collapsed": false,
    "ExecuteTime": {
     "end_time": "2024-04-01T21:33:50.273614Z",
     "start_time": "2024-04-01T21:33:50.197141Z"
    }
   },
   "id": "c5e0ebcc448f75a8",
   "execution_count": 2
  },
  {
   "cell_type": "code",
   "outputs": [
    {
     "data": {
      "text/plain": "Eq(\\Delta t**2*(\\vec{F}_s + \\vec{N}*f_c + \\vec{R}_s)/(2*m_s) + \\Delta t*\\vec{v}_s + \\vec{p}_s, Sum((\\Delta t**2*(\\vec{F}_k - \\vec{N}*f_c*\\phi_k(\\xi, \\eta) + \\vec{R}_k)/(2*m_k) + \\Delta t*\\vec{v}_k + \\vec{p}_k)*\\phi_k(\\xi, \\eta), (k, 0, n - 1)))",
      "text/latex": "$\\displaystyle \\frac{\\Delta t^{2} \\left(\\vec{F}_s + \\vec{N} f_{c} + \\vec{R}_s\\right)}{2 m_{s}} + \\Delta t \\vec{v}_s + \\vec{p}_s = \\sum_{k=0}^{n - 1} \\left(\\frac{\\Delta t^{2} \\left(\\vec{F}_k - \\vec{N} f_{c} \\phi_{k}{\\left(\\xi,\\eta \\right)} + \\vec{R}_k\\right)}{2 m_{k}} + \\Delta t \\vec{v}_k + \\vec{p}_k\\right) \\phi_{k}{\\left(\\xi,\\eta \\right)}$"
     },
     "execution_count": 3,
     "metadata": {},
     "output_type": "execute_result"
    }
   ],
   "source": [
    "eq2 = eq1.subs([\n",
    "    (a_s, (F_s + fc*N + R_s)/m_s),\n",
    "    (a_k, (F_k - fc*N*phi_k + R_k)/m_k)\n",
    "])\n",
    "eq2"
   ],
   "metadata": {
    "collapsed": false,
    "ExecuteTime": {
     "end_time": "2024-04-01T21:33:50.308942Z",
     "start_time": "2024-04-01T21:33:50.274707Z"
    }
   },
   "id": "8915de490871d817",
   "execution_count": 3
  },
  {
   "cell_type": "markdown",
   "source": [
    "In the matrix form, this results in:"
   ],
   "metadata": {
    "collapsed": false
   },
   "id": "c55420574bf47f47"
  },
  {
   "cell_type": "code",
   "outputs": [
    {
     "data": {
      "text/plain": "Eq(\\Delta t**2*(\\vec{F}_s + \\vec{N}*f_c + \\vec{R}_s)/(2*m_s) + \\Delta t*\\vec{v}_s + \\vec{p}_s, Matrix([[A(\\xi, \\eta, f_c)]])*Matrix([[\\phi_k(\\xi, \\eta)]]))",
      "text/latex": "$\\displaystyle \\frac{\\Delta t^{2} \\left(\\vec{F}_s + \\vec{N} f_{c} + \\vec{R}_s\\right)}{2 m_{s}} + \\Delta t \\vec{v}_s + \\vec{p}_s = \\left[\\begin{matrix}A{\\left(\\xi,\\eta,f_{c} \\right)}\\end{matrix}\\right] \\left[\\begin{matrix}\\phi_{k}{\\left(\\xi,\\eta \\right)}\\end{matrix}\\right]$"
     },
     "execution_count": 4,
     "metadata": {},
     "output_type": "execute_result"
    }
   ],
   "source": [
    "A = sp.Matrix([sp.Function('A')(xi, eta, fc)])\n",
    "eq3 = sp.Eq(eq2.lhs, sp.MatMul(A, sp.Matrix([phi_k])), evaluate=False)\n",
    "eq3"
   ],
   "metadata": {
    "collapsed": false,
    "ExecuteTime": {
     "end_time": "2024-04-01T21:33:50.321099Z",
     "start_time": "2024-04-01T21:33:50.310034Z"
    }
   },
   "id": "e01ac2272bcee5b3",
   "execution_count": 4
  },
  {
   "cell_type": "markdown",
   "source": [
    "To solve this with the Newton-Raphson method, we have the following\n",
    "\n",
    "$$\n",
    "\\begin{bmatrix}\n",
    "\\xi_{i+1} \\\\\n",
    "\\eta_{i+1} \\\\\n",
    "f_{ci+1} \n",
    "\\end{bmatrix} = \\begin{bmatrix}\n",
    "\\xi_{i} \\\\\n",
    "\\eta_{i} \\\\\n",
    "f_{ci}\n",
    "\\end{bmatrix} - \\bf{J^{-1}F}\n",
    "$$"
   ],
   "metadata": {
    "collapsed": false
   },
   "id": "921e7c0989cd9db3"
  },
  {
   "cell_type": "code",
   "outputs": [
    {
     "data": {
      "text/plain": "Matrix([[\\Delta t**2*(\\vec{F}_s + \\vec{N}*f_c + \\vec{R}_s)/(2*m_s) + \\Delta t*\\vec{v}_s + \\vec{p}_s - A(\\xi, \\eta, f_c)*\\phi_k(\\xi, \\eta)]])",
      "text/latex": "$\\displaystyle \\left[\\begin{matrix}\\frac{\\Delta t^{2} \\left(\\vec{F}_s + \\vec{N} f_{c} + \\vec{R}_s\\right)}{2 m_{s}} + \\Delta t \\vec{v}_s + \\vec{p}_s - A{\\left(\\xi,\\eta,f_{c} \\right)} \\phi_{k}{\\left(\\xi,\\eta \\right)}\\end{matrix}\\right]$"
     },
     "execution_count": 5,
     "metadata": {},
     "output_type": "execute_result"
    }
   ],
   "source": [
    "F = sp.Matrix([eq3.lhs]) - eq3.rhs\n",
    "F"
   ],
   "metadata": {
    "collapsed": false,
    "ExecuteTime": {
     "end_time": "2024-04-01T21:33:50.334579Z",
     "start_time": "2024-04-01T21:33:50.322639Z"
    }
   },
   "id": "b1fc37b232fa26a8",
   "execution_count": 5
  },
  {
   "cell_type": "code",
   "outputs": [
    {
     "data": {
      "text/plain": "Matrix([[-A(\\xi, \\eta, f_c)*Derivative(\\phi_k(\\xi, \\eta), \\xi) - \\phi_k(\\xi, \\eta)*Derivative(A(\\xi, \\eta, f_c), \\xi), -A(\\xi, \\eta, f_c)*Derivative(\\phi_k(\\xi, \\eta), \\eta) - \\phi_k(\\xi, \\eta)*Derivative(A(\\xi, \\eta, f_c), \\eta), \\Delta t**2*\\vec{N}/(2*m_s) - \\phi_k(\\xi, \\eta)*Derivative(A(\\xi, \\eta, f_c), f_c)]])",
      "text/latex": "$\\displaystyle \\left[\\begin{matrix}- A{\\left(\\xi,\\eta,f_{c} \\right)} \\frac{\\partial}{\\partial \\xi} \\phi_{k}{\\left(\\xi,\\eta \\right)} - \\phi_{k}{\\left(\\xi,\\eta \\right)} \\frac{\\partial}{\\partial \\xi} A{\\left(\\xi,\\eta,f_{c} \\right)} & - A{\\left(\\xi,\\eta,f_{c} \\right)} \\frac{\\partial}{\\partial \\eta} \\phi_{k}{\\left(\\xi,\\eta \\right)} - \\phi_{k}{\\left(\\xi,\\eta \\right)} \\frac{\\partial}{\\partial \\eta} A{\\left(\\xi,\\eta,f_{c} \\right)} & \\frac{\\Delta t^{2} \\vec{N}}{2 m_{s}} - \\phi_{k}{\\left(\\xi,\\eta \\right)} \\frac{\\partial}{\\partial f_{c}} A{\\left(\\xi,\\eta,f_{c} \\right)}\\end{matrix}\\right]$"
     },
     "execution_count": 6,
     "metadata": {},
     "output_type": "execute_result"
    }
   ],
   "source": [
    "J = F.jacobian([xi, eta, fc])\n",
    "J"
   ],
   "metadata": {
    "collapsed": false,
    "ExecuteTime": {
     "end_time": "2024-04-01T21:33:50.364470Z",
     "start_time": "2024-04-01T21:33:50.336311Z"
    }
   },
   "id": "711d5a64cb5da02c",
   "execution_count": 6
  },
  {
   "cell_type": "markdown",
   "source": [
    "Here is a better look of the result:\n",
    "\n",
    "$$\n",
    "\\left[\\begin{smallmatrix}- A{\\left(\\xi,\\eta,f_{c} \\right)} \\frac{\\partial}{\\partial \\xi} \\phi_{k}{\\left(\\xi,\\eta \\right)} - \\frac{\\partial}{\\partial \\xi} A{\\left(\\xi,\\eta,f_{c} \\right)}\\phi_{k}{\\left(\\xi,\\eta \\right)} & - A{\\left(\\xi,\\eta,f_{c} \\right)} \\frac{\\partial}{\\partial \\eta} \\phi_{k}{\\left(\\xi,\\eta \\right)} - \\frac{\\partial}{\\partial \\eta} A{\\left(\\xi,\\eta,f_{c} \\right)}\\phi_{k}{\\left(\\xi,\\eta \\right)} & \\frac{\\Delta t^{2} \\vec{N}}{2 m_{s}} - \\frac{\\partial}{\\partial f_{c}} A{\\left(\\xi,\\eta,f_{c} \\right)}\\phi_{k}{\\left(\\xi,\\eta \\right)} \\end{smallmatrix}\\right]\n",
    "$$\n",
    "\n",
    "Recall that for $A$, we have\n",
    "\n",
    "$$\n",
    "\\begin{bmatrix}\n",
    "p_{x0}+v_{x0}\\Delta t + \\frac{1}{2}\\frac{F_{x0}-N_xf_c \\cdot \\phi_0(\\xi,\\eta)+R_{x0}}{m_{0}}\\Delta t^2 & p_{x1}+v_{x1}\\Delta t + \\frac{1}{2}\\frac{F_{x1}-N_xf_c \\cdot \\phi_1(\\xi,\\eta)+R_{x1}}{m_{1}}\\Delta t^2 & \\cdots \\\\\n",
    "p_{y0}+v_{y0}\\Delta t + \\frac{1}{2}\\frac{F_{y0}-N_yf_c \\cdot \\phi_0(\\xi,\\eta)+R_{y0}}{m_{0}}\\Delta t^2 & p_{y1}+v_{y1}\\Delta t + \\frac{1}{2}\\frac{F_{y1}-N_yf_c \\cdot \\phi_1(\\xi,\\eta)+R_{y1}}{m_{1}}\\Delta t^2 & \\cdots \\\\\n",
    "p_{z0}+v_{z0}\\Delta t + \\frac{1}{2}\\frac{F_{z0}-N_zf_c \\cdot \\phi_0(\\xi,\\eta)+R_{z0}}{m_{0}}\\Delta t^2 & p_{z1}+v_{z1}\\Delta t + \\frac{1}{2}\\frac{F_{z1}-N_zf_c \\cdot \\phi_1(\\xi,\\eta)+R_{z1}}{m_{1}}\\Delta t^2 & \\cdots\n",
    "\\end{bmatrix}\n",
    "$$\n",
    "\n",
    "The following matrices are constructed using the outer product:\n",
    "\n",
    "$$\n",
    "\\begin{gathered}\n",
    "\\frac{\\partial}{\\partial \\xi} A = -\\vec{N} \\otimes \\frac{\\partial}{\\partial \\xi} \\phi_k \\frac{f_c}{2m_k}\\Delta t^2 \\\\\n",
    "\\frac{\\partial}{\\partial \\eta} A = -\\vec{N} \\otimes \\frac{\\partial}{\\partial \\eta} \\phi_k \\frac{f_c}{2m_k}\\Delta t^2 \\\\\n",
    "\\frac{\\partial}{\\partial f_c} A = -\\vec{N} \\otimes \\phi_k \\frac{1}{2m_k}\\Delta t^2\n",
    "\\end{gathered}\n",
    "$$\n",
    "\n",
    "The matrix $A^\\prime$ is constructed as a column stack for each vector."
   ],
   "metadata": {
    "collapsed": false
   },
   "id": "4421dfa4107dffc"
  }
 ],
 "metadata": {
  "kernelspec": {
   "display_name": "Python 3",
   "language": "python",
   "name": "python3"
  },
  "language_info": {
   "codemirror_mode": {
    "name": "ipython",
    "version": 2
   },
   "file_extension": ".py",
   "mimetype": "text/x-python",
   "name": "python",
   "nbconvert_exporter": "python",
   "pygments_lexer": "ipython2",
   "version": "2.7.6"
  }
 },
 "nbformat": 4,
 "nbformat_minor": 5
}
