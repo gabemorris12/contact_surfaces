{
 "cells": [
  {
   "cell_type": "code",
   "source": [
    "import sympy as sp\n",
    "\n",
    "# Defining symbols\n",
    "p_s, v_s, a_s = sp.symbols(r'\\vec{p}_s \\vec{v}_s \\vec{a}_s')\n",
    "k, n = sp.symbols(r'k n')\n",
    "del_t = sp.Symbol(r'\\Delta t')\n",
    "xi, eta = sp.symbols(r'\\xi \\eta')\n",
    "p_k, v_k, a_k = sp.symbols(r'\\vec{p}_k \\vec{v}_k \\vec{a}_k')\n",
    "phi_k = sp.Function(r'\\phi_k')(xi, eta)\n",
    "F_s, fc, R_s = sp.symbols(r'\\vec{F}_s f_c \\vec{R}_s')\n",
    "F_k, N, R_k = sp.symbols(r'\\vec{F}_k \\vec{N} \\vec{R}_k')\n",
    "m_s, m_k = sp.symbols('m_s m_k')"
   ],
   "metadata": {
    "collapsed": false,
    "ExecuteTime": {
     "end_time": "2024-04-08T19:31:30.481315Z",
     "start_time": "2024-04-08T19:31:30.052590Z"
    }
   },
   "id": "5ebfeaf51fc7aa65",
   "outputs": [],
   "execution_count": 1
  },
  {
   "cell_type": "markdown",
   "source": [
    "\\pagebreak\n",
    "\n",
    "# Introduction\n",
    "\n",
    "Consider a contact pair (a patch and a single node) in which a force resolution needs to be acquired between these entities. The goal is to ensure that applied force moves the node and patch in such a way that node lies on the surface of the patch at the next time step. Such a condition can be achieved by solving the following equation:\n",
    "\n",
    "$$\\vec{p}_s+\\vec{v}_s\\Delta t + \\frac{1}{2}\\vec{a}_s\\Delta t^2=\\sum_{k=0}^{n - 1}\\phi_k(\\xi,\\eta)\\left[\\vec{p}_k+\\vec{v}_k\\Delta t + \\frac{1}{2}\\vec{a}_k\\Delta t^2\\right]$$\n",
    "\n",
    "where $p$, $v$, and $a$ are the position, velocity, and acceleration of the node and patch at the current time step, and subscript $s$ denotes the slave node while $k$ denotes the nodes that bound the master patch. Alternatively, the above equation can be represented as a matrix multiplication instead of a summation:\n",
    "\n",
    "$$\n",
    "\\vec{p}_s+\\vec{v}_s\\Delta t + \\frac{1}{2}\\vec{a}_s\\Delta t^2 = \n",
    "\\underbrace{\n",
    "\\begin{bmatrix}\n",
    "p_{x0}+v_{x0}\\Delta t + \\frac{1}{2}a_{x0}\\Delta t^2 & p_{x1}+v_{x1}\\Delta t + \\frac{1}{2}a_{x1}\\Delta t^2 & \\cdots \\\\\n",
    "p_{y0}+v_{y0}\\Delta t + \\frac{1}{2}a_{y0}\\Delta t^2 & p_{y1}+v_{y1}\\Delta t + \\frac{1}{2}a_{y1}\\Delta t^2 & \\cdots \\\\\n",
    "p_{z0}+v_{z0}\\Delta t + \\frac{1}{2}a_{z0}\\Delta t^2 & p_{z1}+v_{z1}\\Delta t + \\frac{1}{2}a_{z1}\\Delta t^2 & \\cdots\n",
    "\\end{bmatrix}\n",
    "}_{A}\n",
    "\\begin{bmatrix}\n",
    "\\phi_0(\\xi,\\eta) \\\\\n",
    "\\phi_1(\\xi,\\eta) \\\\\n",
    "\\vdots \\\\\n",
    "\\phi_{n - 1}(\\xi,\\eta)\n",
    "\\end{bmatrix}\n",
    "$$\n",
    "\n",
    "The acceleration for the slave node and the master patch node can be written as\n",
    "\n",
    "$$\n",
    "\\begin{gathered}\n",
    "\\vec{a}_s= \\frac{\\vec{F}_s + f_c\\vec{N}+\\vec{R}_s}{m_s} \\\\\n",
    "\\vec{a}_k= \\frac{\\vec{F}_k - f_c\\vec{N}\\cdot \\phi_k(\\xi, \\eta)+\\vec{R}_k}{m_k}\n",
    "\\end{gathered}\n",
    "$$\n",
    "\n",
    "where $\\vec{F}$ is the internal force known prior to the analysis, $f_c$ is the incremental contact force between the current node and the patch, and $\\vec{R}$ is the force due to other contact pairs. $\\vec{N}$ is the unit normal at the contact point $(\\xi, \\eta)$ and must be in the outward direction of the patch, facing the non-penetrated slave node. This normal is found by taking the cross-product between the partial derivatives with respect to $\\xi$ and $\\eta$.\n",
    "\n",
    "$$N=\\frac{A\\frac{\\partial}{\\partial \\xi}\\phi_k \\times A\\frac{\\partial}{\\partial \\eta}\\phi_k}{\\left|A\\frac{\\partial}{\\partial \\xi}\\phi_k \\times A\\frac{\\partial}{\\partial \\eta}\\phi_k\\right|}$$"
   ],
   "metadata": {
    "collapsed": false
   },
   "id": "adbe9bf8dcdcbec0"
  },
  {
   "cell_type": "code",
   "source": [
    "eq1 = sp.Eq(p_s + v_s*del_t + sp.Rational(1, 2)*a_s*del_t**2, sp.Sum(phi_k*(p_k + v_k*del_t + sp.Rational(1, 2)*a_k*del_t**2), (k, 0, n-1)))\n",
    "eq1"
   ],
   "metadata": {
    "collapsed": false,
    "ExecuteTime": {
     "end_time": "2024-04-08T19:31:30.534743Z",
     "start_time": "2024-04-08T19:31:30.483324Z"
    }
   },
   "id": "c5e0ebcc448f75a8",
   "outputs": [
    {
     "data": {
      "text/plain": [
       "Eq(\\Delta t**2*\\vec{a}_s/2 + \\Delta t*\\vec{v}_s + \\vec{p}_s, Sum((\\Delta t**2*\\vec{a}_k/2 + \\Delta t*\\vec{v}_k + \\vec{p}_k)*\\phi_k(\\xi, \\eta), (k, 0, n - 1)))"
      ],
      "text/latex": "$\\displaystyle \\frac{\\Delta t^{2} \\vec{a}_s}{2} + \\Delta t \\vec{v}_s + \\vec{p}_s = \\sum_{k=0}^{n - 1} \\left(\\frac{\\Delta t^{2} \\vec{a}_k}{2} + \\Delta t \\vec{v}_k + \\vec{p}_k\\right) \\phi_{k}{\\left(\\xi,\\eta \\right)}$"
     },
     "execution_count": 2,
     "metadata": {},
     "output_type": "execute_result"
    }
   ],
   "execution_count": 2
  },
  {
   "cell_type": "code",
   "source": [
    "eq2 = eq1.subs([\n",
    "    (a_s, (F_s + fc*N + R_s)/m_s),\n",
    "    (a_k, (F_k - fc*N*phi_k + R_k)/m_k)\n",
    "])\n",
    "eq2"
   ],
   "metadata": {
    "collapsed": false,
    "ExecuteTime": {
     "end_time": "2024-04-08T19:31:30.557533Z",
     "start_time": "2024-04-08T19:31:30.534743Z"
    }
   },
   "id": "8915de490871d817",
   "outputs": [
    {
     "data": {
      "text/plain": [
       "Eq(\\Delta t**2*(\\vec{F}_s + \\vec{N}*f_c + \\vec{R}_s)/(2*m_s) + \\Delta t*\\vec{v}_s + \\vec{p}_s, Sum((\\Delta t**2*(\\vec{F}_k - \\vec{N}*f_c*\\phi_k(\\xi, \\eta) + \\vec{R}_k)/(2*m_k) + \\Delta t*\\vec{v}_k + \\vec{p}_k)*\\phi_k(\\xi, \\eta), (k, 0, n - 1)))"
      ],
      "text/latex": "$\\displaystyle \\frac{\\Delta t^{2} \\left(\\vec{F}_s + \\vec{N} f_{c} + \\vec{R}_s\\right)}{2 m_{s}} + \\Delta t \\vec{v}_s + \\vec{p}_s = \\sum_{k=0}^{n - 1} \\left(\\frac{\\Delta t^{2} \\left(\\vec{F}_k - \\vec{N} f_{c} \\phi_{k}{\\left(\\xi,\\eta \\right)} + \\vec{R}_k\\right)}{2 m_{k}} + \\Delta t \\vec{v}_k + \\vec{p}_k\\right) \\phi_{k}{\\left(\\xi,\\eta \\right)}$"
     },
     "execution_count": 3,
     "metadata": {},
     "output_type": "execute_result"
    }
   ],
   "execution_count": 3
  },
  {
   "cell_type": "markdown",
   "source": [
    "In the matrix form, this results in"
   ],
   "metadata": {
    "collapsed": false
   },
   "id": "c55420574bf47f47"
  },
  {
   "cell_type": "code",
   "source": [
    "A = sp.Matrix([sp.Function('A')(xi, eta, fc)])\n",
    "eq3 = sp.Eq(eq2.lhs, sp.MatMul(A, sp.Matrix([phi_k])), evaluate=False)\n",
    "eq3"
   ],
   "metadata": {
    "collapsed": false,
    "ExecuteTime": {
     "end_time": "2024-04-08T19:31:30.570207Z",
     "start_time": "2024-04-08T19:31:30.557533Z"
    }
   },
   "id": "e01ac2272bcee5b3",
   "outputs": [
    {
     "data": {
      "text/plain": [
       "Eq(\\Delta t**2*(\\vec{F}_s + \\vec{N}*f_c + \\vec{R}_s)/(2*m_s) + \\Delta t*\\vec{v}_s + \\vec{p}_s, Matrix([[A(\\xi, \\eta, f_c)]])*Matrix([[\\phi_k(\\xi, \\eta)]]))"
      ],
      "text/latex": "$\\displaystyle \\frac{\\Delta t^{2} \\left(\\vec{F}_s + \\vec{N} f_{c} + \\vec{R}_s\\right)}{2 m_{s}} + \\Delta t \\vec{v}_s + \\vec{p}_s = \\left[\\begin{matrix}A{\\left(\\xi,\\eta,f_{c} \\right)}\\end{matrix}\\right] \\left[\\begin{matrix}\\phi_{k}{\\left(\\xi,\\eta \\right)}\\end{matrix}\\right]$"
     },
     "execution_count": 4,
     "metadata": {},
     "output_type": "execute_result"
    }
   ],
   "execution_count": 4
  },
  {
   "cell_type": "markdown",
   "source": [
    "# Solving\n",
    "\n",
    "To solve this with the Newton-Raphson method, we have the following\n",
    "\n",
    "$$\n",
    "\\begin{bmatrix}\n",
    "\\xi_{i+1} \\\\\n",
    "\\eta_{i+1} \\\\\n",
    "f_{ci+1} \n",
    "\\end{bmatrix} = \\begin{bmatrix}\n",
    "\\xi_{i} \\\\\n",
    "\\eta_{i} \\\\\n",
    "f_{ci}\n",
    "\\end{bmatrix} - \\bf{J^{-1}F}\n",
    "$$"
   ],
   "metadata": {
    "collapsed": false
   },
   "id": "921e7c0989cd9db3"
  },
  {
   "cell_type": "code",
   "source": [
    "F = sp.Matrix([eq3.lhs]) - eq3.rhs\n",
    "F"
   ],
   "metadata": {
    "collapsed": false,
    "ExecuteTime": {
     "end_time": "2024-04-08T19:31:30.578875Z",
     "start_time": "2024-04-08T19:31:30.571596Z"
    }
   },
   "id": "b1fc37b232fa26a8",
   "outputs": [
    {
     "data": {
      "text/plain": [
       "Matrix([[\\Delta t**2*(\\vec{F}_s + \\vec{N}*f_c + \\vec{R}_s)/(2*m_s) + \\Delta t*\\vec{v}_s + \\vec{p}_s - A(\\xi, \\eta, f_c)*\\phi_k(\\xi, \\eta)]])"
      ],
      "text/latex": "$\\displaystyle \\left[\\begin{matrix}\\frac{\\Delta t^{2} \\left(\\vec{F}_s + \\vec{N} f_{c} + \\vec{R}_s\\right)}{2 m_{s}} + \\Delta t \\vec{v}_s + \\vec{p}_s - A{\\left(\\xi,\\eta,f_{c} \\right)} \\phi_{k}{\\left(\\xi,\\eta \\right)}\\end{matrix}\\right]$"
     },
     "execution_count": 5,
     "metadata": {},
     "output_type": "execute_result"
    }
   ],
   "execution_count": 5
  },
  {
   "cell_type": "code",
   "source": [
    "J = F.jacobian([xi, eta, fc])\n",
    "J"
   ],
   "metadata": {
    "collapsed": false,
    "ExecuteTime": {
     "end_time": "2024-04-08T19:31:30.601495Z",
     "start_time": "2024-04-08T19:31:30.580062Z"
    }
   },
   "id": "711d5a64cb5da02c",
   "outputs": [
    {
     "data": {
      "text/plain": [
       "Matrix([[-A(\\xi, \\eta, f_c)*Derivative(\\phi_k(\\xi, \\eta), \\xi) - \\phi_k(\\xi, \\eta)*Derivative(A(\\xi, \\eta, f_c), \\xi), -A(\\xi, \\eta, f_c)*Derivative(\\phi_k(\\xi, \\eta), \\eta) - \\phi_k(\\xi, \\eta)*Derivative(A(\\xi, \\eta, f_c), \\eta), \\Delta t**2*\\vec{N}/(2*m_s) - \\phi_k(\\xi, \\eta)*Derivative(A(\\xi, \\eta, f_c), f_c)]])"
      ],
      "text/latex": "$\\displaystyle \\left[\\begin{matrix}- A{\\left(\\xi,\\eta,f_{c} \\right)} \\frac{\\partial}{\\partial \\xi} \\phi_{k}{\\left(\\xi,\\eta \\right)} - \\phi_{k}{\\left(\\xi,\\eta \\right)} \\frac{\\partial}{\\partial \\xi} A{\\left(\\xi,\\eta,f_{c} \\right)} & - A{\\left(\\xi,\\eta,f_{c} \\right)} \\frac{\\partial}{\\partial \\eta} \\phi_{k}{\\left(\\xi,\\eta \\right)} - \\phi_{k}{\\left(\\xi,\\eta \\right)} \\frac{\\partial}{\\partial \\eta} A{\\left(\\xi,\\eta,f_{c} \\right)} & \\frac{\\Delta t^{2} \\vec{N}}{2 m_{s}} - \\phi_{k}{\\left(\\xi,\\eta \\right)} \\frac{\\partial}{\\partial f_{c}} A{\\left(\\xi,\\eta,f_{c} \\right)}\\end{matrix}\\right]$"
     },
     "execution_count": 6,
     "metadata": {},
     "output_type": "execute_result"
    }
   ],
   "execution_count": 6
  },
  {
   "cell_type": "markdown",
   "source": [
    "Here is a better look of the result:\n",
    "\n",
    "$$\n",
    "\\left[\\begin{smallmatrix}- A{\\left(\\xi,\\eta,f_{c} \\right)} \\frac{\\partial}{\\partial \\xi} \\phi_{k}{\\left(\\xi,\\eta \\right)} - \\frac{\\partial}{\\partial \\xi} A{\\left(\\xi,\\eta,f_{c} \\right)}\\phi_{k}{\\left(\\xi,\\eta \\right)} & - A{\\left(\\xi,\\eta,f_{c} \\right)} \\frac{\\partial}{\\partial \\eta} \\phi_{k}{\\left(\\xi,\\eta \\right)} - \\frac{\\partial}{\\partial \\eta} A{\\left(\\xi,\\eta,f_{c} \\right)}\\phi_{k}{\\left(\\xi,\\eta \\right)} & \\frac{\\Delta t^{2} \\vec{N}}{2 m_{s}} - \\frac{\\partial}{\\partial f_{c}} A{\\left(\\xi,\\eta,f_{c} \\right)}\\phi_{k}{\\left(\\xi,\\eta \\right)} \\end{smallmatrix}\\right]\n",
    "$$\n",
    "\n",
    "Recall that for $A$, we have\n",
    "\n",
    "$$\n",
    "\\begin{bmatrix}\n",
    "p_{x0}+v_{x0}\\Delta t + \\frac{1}{2}\\frac{F_{x0}-N_xf_c \\cdot \\phi_0(\\xi,\\eta)+R_{x0}}{m_{0}}\\Delta t^2 & p_{x1}+v_{x1}\\Delta t + \\frac{1}{2}\\frac{F_{x1}-N_xf_c \\cdot \\phi_1(\\xi,\\eta)+R_{x1}}{m_{1}}\\Delta t^2 & \\cdots \\\\\n",
    "p_{y0}+v_{y0}\\Delta t + \\frac{1}{2}\\frac{F_{y0}-N_yf_c \\cdot \\phi_0(\\xi,\\eta)+R_{y0}}{m_{0}}\\Delta t^2 & p_{y1}+v_{y1}\\Delta t + \\frac{1}{2}\\frac{F_{y1}-N_yf_c \\cdot \\phi_1(\\xi,\\eta)+R_{y1}}{m_{1}}\\Delta t^2 & \\cdots \\\\\n",
    "p_{z0}+v_{z0}\\Delta t + \\frac{1}{2}\\frac{F_{z0}-N_zf_c \\cdot \\phi_0(\\xi,\\eta)+R_{z0}}{m_{0}}\\Delta t^2 & p_{z1}+v_{z1}\\Delta t + \\frac{1}{2}\\frac{F_{z1}-N_zf_c \\cdot \\phi_1(\\xi,\\eta)+R_{z1}}{m_{1}}\\Delta t^2 & \\cdots\n",
    "\\end{bmatrix}\n",
    "$$\n",
    "\n",
    "The following matrices are constructed using the outer product:\n",
    "\n",
    "$$\n",
    "\\begin{gathered}\n",
    "\\frac{\\partial}{\\partial \\xi} A = -\\vec{N} \\otimes \\frac{\\partial}{\\partial \\xi} \\phi_k \\frac{f_c}{2m_k}\\Delta t^2 \\\\\n",
    "\\frac{\\partial}{\\partial \\eta} A = -\\vec{N} \\otimes \\frac{\\partial}{\\partial \\eta} \\phi_k \\frac{f_c}{2m_k}\\Delta t^2 \\\\\n",
    "\\frac{\\partial}{\\partial f_c} A = -\\vec{N} \\otimes \\phi_k \\frac{1}{2m_k}\\Delta t^2\n",
    "\\end{gathered}\n",
    "$$\n",
    "\n",
    "# Glued Condition\n",
    "\n",
    "The above method is determining the force and reference coordinates subjected to some constant normal direction. However, for the glued case, the reference coordinates remain constant, and the direction of the force as well as its magnitude need to be determined. If we denote this force as $\\vec{G}$, the matrix equation above changes to"
   ],
   "metadata": {
    "collapsed": false
   },
   "id": "4421dfa4107dffc"
  },
  {
   "cell_type": "code",
   "source": [
    "Gx, Gy, Gz = sp.symbols(r'G_x G_y G_z')\n",
    "G = sp.Transpose(sp.transpose(sp.Matrix([Gx, Gy, Gz])))\n",
    "A = sp.Matrix([sp.Function('A')(Gx, Gy, Gz)])\n",
    "eq4 = sp.Eq(eq3.lhs.subs(N*fc, G), sp.MatMul(A, sp.Matrix([phi_k])), evaluate=False)\n",
    "eq4"
   ],
   "metadata": {
    "collapsed": false,
    "ExecuteTime": {
     "end_time": "2024-04-08T19:31:30.617125Z",
     "start_time": "2024-04-08T19:31:30.602806Z"
    }
   },
   "id": "92e78edd3121cee5",
   "outputs": [
    {
     "data": {
      "text/plain": [
       "Eq(\\Delta t**2*(\\vec{F}_s + \\vec{R}_s + Matrix([[G_x, G_y, G_z]]).T)/(2*m_s) + \\Delta t*\\vec{v}_s + \\vec{p}_s, Matrix([[A(G_x, G_y, G_z)]])*Matrix([[\\phi_k(\\xi, \\eta)]]))"
      ],
      "text/latex": "$\\displaystyle \\frac{\\Delta t^{2} \\left(\\vec{F}_s + \\vec{R}_s + \\left[\\begin{matrix}G_{x} & G_{y} & G_{z}\\end{matrix}\\right]^{T}\\right)}{2 m_{s}} + \\Delta t \\vec{v}_s + \\vec{p}_s = \\left[\\begin{matrix}A{\\left(G_{x},G_{y},G_{z} \\right)}\\end{matrix}\\right] \\left[\\begin{matrix}\\phi_{k}{\\left(\\xi,\\eta \\right)}\\end{matrix}\\right]$"
     },
     "execution_count": 7,
     "metadata": {},
     "output_type": "execute_result"
    }
   ],
   "execution_count": 7
  },
  {
   "cell_type": "markdown",
   "source": [
    "The matrix $A$ is the same as above, but the $N_xf_c$ component is replaced with the glued force component $G_x$ for each $x$, $y$, and $z$."
   ],
   "metadata": {
    "collapsed": false
   },
   "id": "bcdc9d7231d850ca"
  },
  {
   "cell_type": "code",
   "source": [
    "F = sp.Matrix([eq4.lhs]) - eq4.rhs\n",
    "F"
   ],
   "metadata": {
    "collapsed": false,
    "ExecuteTime": {
     "end_time": "2024-04-08T19:31:30.625903Z",
     "start_time": "2024-04-08T19:31:30.618136Z"
    }
   },
   "id": "6543bac96ebe1209",
   "outputs": [
    {
     "data": {
      "text/plain": [
       "Matrix([[\\Delta t**2*(\\vec{F}_s + \\vec{R}_s + Matrix([\n",
       "[G_x],\n",
       "[G_y],\n",
       "[G_z]]))/(2*m_s) + \\Delta t*\\vec{v}_s + \\vec{p}_s - A(G_x, G_y, G_z)*\\phi_k(\\xi, \\eta)]])"
      ],
      "text/latex": "$\\displaystyle \\left[\\begin{matrix}\\frac{\\Delta t^{2} \\left(\\vec{F}_s + \\vec{R}_s + \\left[\\begin{matrix}G_{x}\\\\G_{y}\\\\G_{z}\\end{matrix}\\right]\\right)}{2 m_{s}} + \\Delta t \\vec{v}_s + \\vec{p}_s - A{\\left(G_{x},G_{y},G_{z} \\right)} \\phi_{k}{\\left(\\xi,\\eta \\right)}\\end{matrix}\\right]$"
     },
     "execution_count": 8,
     "metadata": {},
     "output_type": "execute_result"
    }
   ],
   "execution_count": 8
  },
  {
   "cell_type": "code",
   "source": [
    "J = F.jacobian([Gx, Gy, Gz])\n",
    "J"
   ],
   "metadata": {
    "collapsed": false,
    "ExecuteTime": {
     "end_time": "2024-04-08T19:31:30.657143Z",
     "start_time": "2024-04-08T19:31:30.627015Z"
    }
   },
   "id": "1b083b4ea61592f5",
   "outputs": [
    {
     "data": {
      "text/plain": [
       "Matrix([[-\\phi_k(\\xi, \\eta)*Derivative(A(G_x, G_y, G_z), G_x) + Matrix([\n",
       "[\\Delta t**2/(2*m_s)],\n",
       "[                  0],\n",
       "[                  0]]), -\\phi_k(\\xi, \\eta)*Derivative(A(G_x, G_y, G_z), G_y) + Matrix([\n",
       "[                  0],\n",
       "[\\Delta t**2/(2*m_s)],\n",
       "[                  0]]), -\\phi_k(\\xi, \\eta)*Derivative(A(G_x, G_y, G_z), G_z) + Matrix([\n",
       "[                  0],\n",
       "[                  0],\n",
       "[\\Delta t**2/(2*m_s)]])]])"
      ],
      "text/latex": "$\\displaystyle \\left[\\begin{matrix}- \\phi_{k}{\\left(\\xi,\\eta \\right)} \\frac{\\partial}{\\partial G_{x}} A{\\left(G_{x},G_{y},G_{z} \\right)} + \\left[\\begin{matrix}\\frac{\\Delta t^{2}}{2 m_{s}}\\\\0\\\\0\\end{matrix}\\right] & - \\phi_{k}{\\left(\\xi,\\eta \\right)} \\frac{\\partial}{\\partial G_{y}} A{\\left(G_{x},G_{y},G_{z} \\right)} + \\left[\\begin{matrix}0\\\\\\frac{\\Delta t^{2}}{2 m_{s}}\\\\0\\end{matrix}\\right] & - \\phi_{k}{\\left(\\xi,\\eta \\right)} \\frac{\\partial}{\\partial G_{z}} A{\\left(G_{x},G_{y},G_{z} \\right)} + \\left[\\begin{matrix}0\\\\0\\\\\\frac{\\Delta t^{2}}{2 m_{s}}\\end{matrix}\\right]\\end{matrix}\\right]$"
     },
     "execution_count": 9,
     "metadata": {},
     "output_type": "execute_result"
    }
   ],
   "execution_count": 9
  },
  {
   "cell_type": "markdown",
   "source": [
    "Here is a better look:\n",
    "\n",
    "$$\n",
    "\\left[\\begin{smallmatrix}- \\frac{\\partial}{\\partial G_{x}} A{\\left(G_{x},G_{y},G_{z} \\right)}\\phi_{k}{\\left(\\xi,\\eta \\right)} + \\left[\\begin{matrix}\\frac{\\Delta t^{2}}{2 m_{s}}\\\\0\\\\0\\end{matrix}\\right] & - \\frac{\\partial}{\\partial G_{y}} A{\\left(G_{x},G_{y},G_{z} \\right)}\\phi_{k}{\\left(\\xi,\\eta \\right)} + \\left[\\begin{matrix}0\\\\\\frac{\\Delta t^{2}}{2 m_{s}}\\\\0\\end{matrix}\\right] & - \\frac{\\partial}{\\partial G_{z}} A{\\left(G_{x},G_{y},G_{z} \\right)}\\phi_{k}{\\left(\\xi,\\eta \\right)} + \\left[\\begin{matrix}0\\\\0\\\\\\frac{\\Delta t^{2}}{2 m_{s}}\\end{matrix}\\right]\\end{smallmatrix}\\right]\n",
    "$$\n",
    "\n",
    "The partial derivatives can be constructed by\n",
    "\n",
    "$$\n",
    "\\begin{gathered}\n",
    "\\frac{\\partial}{\\partial G_x}A = - \\begin{bmatrix}\n",
    "1 & 0 & 0 \n",
    "\\end{bmatrix}^T \\otimes \\phi_k \\frac{1}{2m_k}\\Delta t^2 \\\\\n",
    "\\frac{\\partial}{\\partial G_y}A = - \\begin{bmatrix}\n",
    "0 & 1 & 0 \n",
    "\\end{bmatrix}^T \\otimes \\phi_k \\frac{1}{2m_k}\\Delta t^2 \\\\\n",
    "\\frac{\\partial}{\\partial G_z}A = - \\begin{bmatrix}\n",
    "0 & 0 & 1 \n",
    "\\end{bmatrix}^T \\otimes \\phi_k \\frac{1}{2m_k}\\Delta t^2\n",
    "\\end{gathered}\n",
    "$$\n",
    "\n",
    "# Complete Algorithm\n",
    "\n",
    "The analysis presented here computes the force for a single contact pair (that is a single patch and single node); however, the force from other contact pairs does affect the calculated force at the current contact pair. The way to combat this is by iteratively solving for the contact force for each pair and storing the solution into $\\vec{R}$ for each node. Then, repeat the process until eventually, the value of $\\vec{R}$ converges. The algorithm looks something like this\n",
    "\n",
    "```\n",
    "for i in 0...max_iter\n",
    "    for each contact pair\n",
    "        compute fc (or G)\n",
    "        # update R for each node\n",
    "        Rs = Rs + N*fc (or Rs = Rs + G) # for slave node\n",
    "        Rk = Rk - N*fc*phi_k (or Rk = Rk - G*phi_k) # for patch node\n",
    "    \n",
    "    # If R is a vector that houses all the forces for each node\n",
    "    if i > 0 and norm(R[i] - R[i-1]) < tol\n",
    "        break\n",
    "```\n",
    "\n",
    "# Force Guess\n",
    "For guessing the increment $f_c$, create a virtual node at the contact point that has a mass equal to the average of all the nodes. Find the acceleration and velocity at this virtual point in the normal direction (this is done by computing the projection of acceleration and velocity on the normal direction). The increment in force is then calculated by"
   ],
   "metadata": {
    "collapsed": false
   },
   "id": "f05d15ab0925cd1f"
  },
  {
   "metadata": {
    "ExecuteTime": {
     "end_time": "2024-04-08T19:31:30.678206Z",
     "start_time": "2024-04-08T19:31:30.658149Z"
    }
   },
   "cell_type": "code",
   "source": [
    "psn, vsn, Fsn, Rsn = sp.symbols(r'p_{sn} v_{sn} F_{sn} R_{sn}')\n",
    "m_avg, pkn, vkn, Fkn, Rkn = sp.symbols(r'm_{avg} p_{kn} v_{kn} F_{kn} R_{kn}')\n",
    "eq5 = sp.Eq(psn + vsn*del_t + (Fsn + Rsn + fc)/(2*m_s)*del_t**2, pkn + vkn*del_t + (Fkn + Rkn - fc)/(2*m_avg)*del_t**2)\n",
    "eq5"
   ],
   "id": "9be455ba700bd5d3",
   "outputs": [
    {
     "data": {
      "text/plain": [
       "Eq(\\Delta t**2*(F_{sn} + R_{sn} + f_c)/(2*m_s) + \\Delta t*v_{sn} + p_{sn}, \\Delta t**2*(F_{kn} + R_{kn} - f_c)/(2*m_{avg}) + \\Delta t*v_{kn} + p_{kn})"
      ],
      "text/latex": "$\\displaystyle \\frac{\\Delta t^{2} \\left(F_{sn} + R_{sn} + f_{c}\\right)}{2 m_{s}} + \\Delta t v_{sn} + p_{sn} = \\frac{\\Delta t^{2} \\left(F_{kn} + R_{kn} - f_{c}\\right)}{2 m_{avg}} + \\Delta t v_{kn} + p_{kn}$"
     },
     "execution_count": 10,
     "metadata": {},
     "output_type": "execute_result"
    }
   ],
   "execution_count": 10
  },
  {
   "metadata": {
    "ExecuteTime": {
     "end_time": "2024-04-08T19:31:30.910900Z",
     "start_time": "2024-04-08T19:31:30.679356Z"
    }
   },
   "cell_type": "code",
   "source": [
    "fc_guess = sp.solve(eq5, fc)[0]\n",
    "fc_guess"
   ],
   "id": "e9abdb383649ee92",
   "outputs": [
    {
     "data": {
      "text/plain": [
       "(F_{kn}*\\Delta t**2*m_s - F_{sn}*\\Delta t**2*m_{avg} + R_{kn}*\\Delta t**2*m_s - R_{sn}*\\Delta t**2*m_{avg} + 2*\\Delta t*m_s*m_{avg}*v_{kn} - 2*\\Delta t*m_s*m_{avg}*v_{sn} + 2*m_s*m_{avg}*p_{kn} - 2*m_s*m_{avg}*p_{sn})/(\\Delta t**2*(m_s + m_{avg}))"
      ],
      "text/latex": "$\\displaystyle \\frac{F_{kn} \\Delta t^{2} m_{s} - F_{sn} \\Delta t^{2} m_{avg} + R_{kn} \\Delta t^{2} m_{s} - R_{sn} \\Delta t^{2} m_{avg} + 2 \\Delta t m_{s} m_{avg} v_{kn} - 2 \\Delta t m_{s} m_{avg} v_{sn} + 2 m_{s} m_{avg} p_{kn} - 2 m_{s} m_{avg} p_{sn}}{\\Delta t^{2} \\left(m_{s} + m_{avg}\\right)}$"
     },
     "execution_count": 11,
     "metadata": {},
     "output_type": "execute_result"
    }
   ],
   "execution_count": 11
  },
  {
   "metadata": {},
   "cell_type": "markdown",
   "source": "The quantities $F_{kn}$, $R_{kn}$, $v_{kn}$, and $p_{kn}$ are found by using the summation operation with the iso-parametric quantities. ",
   "id": "223ba7455e649e8d"
  }
 ],
 "metadata": {
  "kernelspec": {
   "display_name": "Python 3",
   "language": "python",
   "name": "python3"
  },
  "language_info": {
   "codemirror_mode": {
    "name": "ipython",
    "version": 2
   },
   "file_extension": ".py",
   "mimetype": "text/x-python",
   "name": "python",
   "nbconvert_exporter": "python",
   "pygments_lexer": "ipython2",
   "version": "2.7.6"
  }
 },
 "nbformat": 4,
 "nbformat_minor": 5
}
