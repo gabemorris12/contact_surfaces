{
 "cells": [
  {
   "cell_type": "code",
   "execution_count": 1,
   "id": "initial_id",
   "metadata": {
    "ExecuteTime": {
     "end_time": "2024-03-07T21:51:35.058600Z",
     "start_time": "2024-03-07T21:51:34.248440Z"
    }
   },
   "outputs": [],
   "source": [
    "import sympy as sp\n",
    "import numpy as np\n",
    "\n",
    "x0, x1, x2, x3 = sp.symbols('x0:4')  # x values of quadrilateral points\n",
    "y0, y1, y2, y3 = sp.symbols('y0:4')  # y values of quadrilateral points\n",
    "xc, yc = sp.symbols('x_c y_c')  # x and y values of contact point\n",
    "xi, eta = sp.symbols(r'xi eta')  # reference coordinate variables\n",
    "xi_c, eta_c = sp.symbols(r'xi_c eta_c')  # reference coordinates of contact point"
   ]
  },
  {
   "cell_type": "markdown",
   "id": "ef06680364c7eef7",
   "metadata": {
    "collapsed": false
   },
   "source": [
    "![Figure 1](Figures/Contact%20Point.png)\n",
    "\n",
    "This demo is provided for constructing the set of non-linear functions to solve for the $\\xi$ and $\\eta$ reference coordinates of the contact point."
   ]
  },
  {
   "cell_type": "code",
   "execution_count": 2,
   "id": "80e9198f807795e5",
   "metadata": {
    "collapsed": false,
    "ExecuteTime": {
     "end_time": "2024-03-07T21:51:35.289909Z",
     "start_time": "2024-03-07T21:51:35.059660Z"
    }
   },
   "outputs": [
    {
     "data": {
      "text/plain": "Eq(Matrix([\n[  1],\n[x_c],\n[y_c]]), Matrix([\n[ 1,  1,  1,  1],\n[x0, x1, x2, x3],\n[y0, y1, y2, y3]])*Matrix([\n[ (eta - 1)*(xi - 1)/4],\n[-(eta - 1)*(xi + 1)/4],\n[ (eta + 1)*(xi + 1)/4],\n[-(eta + 1)*(xi - 1)/4]]))",
      "text/latex": "$\\displaystyle \\left[\\begin{matrix}1\\\\x_{c}\\\\y_{c}\\end{matrix}\\right] = \\left[\\begin{matrix}1 & 1 & 1 & 1\\\\x_{0} & x_{1} & x_{2} & x_{3}\\\\y_{0} & y_{1} & y_{2} & y_{3}\\end{matrix}\\right] \\left[\\begin{matrix}\\frac{\\left(\\eta - 1\\right) \\left(\\xi - 1\\right)}{4}\\\\- \\frac{\\left(\\eta - 1\\right) \\left(\\xi + 1\\right)}{4}\\\\\\frac{\\left(\\eta + 1\\right) \\left(\\xi + 1\\right)}{4}\\\\- \\frac{\\left(\\eta + 1\\right) \\left(\\xi - 1\\right)}{4}\\end{matrix}\\right]$"
     },
     "metadata": {},
     "output_type": "display_data"
    },
    {
     "data": {
      "text/plain": "Eq(Matrix([\n[  1],\n[x_c],\n[y_c]]), Matrix([\n[            (eta - 1)*(xi - 1)/4 - (eta - 1)*(xi + 1)/4 - (eta + 1)*(xi - 1)/4 + (eta + 1)*(xi + 1)/4],\n[x0*(eta - 1)*(xi - 1)/4 - x1*(eta - 1)*(xi + 1)/4 + x2*(eta + 1)*(xi + 1)/4 - x3*(eta + 1)*(xi - 1)/4],\n[y0*(eta - 1)*(xi - 1)/4 - y1*(eta - 1)*(xi + 1)/4 + y2*(eta + 1)*(xi + 1)/4 - y3*(eta + 1)*(xi - 1)/4]]))",
      "text/latex": "$\\displaystyle \\left[\\begin{matrix}1\\\\x_{c}\\\\y_{c}\\end{matrix}\\right] = \\left[\\begin{matrix}\\frac{\\left(\\eta - 1\\right) \\left(\\xi - 1\\right)}{4} - \\frac{\\left(\\eta - 1\\right) \\left(\\xi + 1\\right)}{4} - \\frac{\\left(\\eta + 1\\right) \\left(\\xi - 1\\right)}{4} + \\frac{\\left(\\eta + 1\\right) \\left(\\xi + 1\\right)}{4}\\\\\\frac{x_{0} \\left(\\eta - 1\\right) \\left(\\xi - 1\\right)}{4} - \\frac{x_{1} \\left(\\eta - 1\\right) \\left(\\xi + 1\\right)}{4} + \\frac{x_{2} \\left(\\eta + 1\\right) \\left(\\xi + 1\\right)}{4} - \\frac{x_{3} \\left(\\eta + 1\\right) \\left(\\xi - 1\\right)}{4}\\\\\\frac{y_{0} \\left(\\eta - 1\\right) \\left(\\xi - 1\\right)}{4} - \\frac{y_{1} \\left(\\eta - 1\\right) \\left(\\xi + 1\\right)}{4} + \\frac{y_{2} \\left(\\eta + 1\\right) \\left(\\xi + 1\\right)}{4} - \\frac{y_{3} \\left(\\eta + 1\\right) \\left(\\xi - 1\\right)}{4}\\end{matrix}\\right]$"
     },
     "metadata": {},
     "output_type": "display_data"
    },
    {
     "data": {
      "text/plain": "Eq(Matrix([\n[x_c],\n[y_c]]), Matrix([\n[x0*(eta - 1)*(xi - 1)/4 - x1*(eta - 1)*(xi + 1)/4 + x2*(eta + 1)*(xi + 1)/4 - x3*(eta + 1)*(xi - 1)/4],\n[y0*(eta - 1)*(xi - 1)/4 - y1*(eta - 1)*(xi + 1)/4 + y2*(eta + 1)*(xi + 1)/4 - y3*(eta + 1)*(xi - 1)/4]]))",
      "text/latex": "$\\displaystyle \\left[\\begin{matrix}x_{c}\\\\y_{c}\\end{matrix}\\right] = \\left[\\begin{matrix}\\frac{x_{0} \\left(\\eta - 1\\right) \\left(\\xi - 1\\right)}{4} - \\frac{x_{1} \\left(\\eta - 1\\right) \\left(\\xi + 1\\right)}{4} + \\frac{x_{2} \\left(\\eta + 1\\right) \\left(\\xi + 1\\right)}{4} - \\frac{x_{3} \\left(\\eta + 1\\right) \\left(\\xi - 1\\right)}{4}\\\\\\frac{y_{0} \\left(\\eta - 1\\right) \\left(\\xi - 1\\right)}{4} - \\frac{y_{1} \\left(\\eta - 1\\right) \\left(\\xi + 1\\right)}{4} + \\frac{y_{2} \\left(\\eta + 1\\right) \\left(\\xi + 1\\right)}{4} - \\frac{y_{3} \\left(\\eta + 1\\right) \\left(\\xi - 1\\right)}{4}\\end{matrix}\\right]$"
     },
     "execution_count": 2,
     "metadata": {},
     "output_type": "execute_result"
    }
   ],
   "source": [
    "# With the order of the quadrilateral points starting from the bottom left going counterclockwise, the basis functions are:\n",
    "phi_p = [(sp.Rational(1, 4)*(1 + xi_p*xi)*(1 + eta_p*eta)).simplify() for xi_p, eta_p in ((-1, -1), (1, -1), (1, 1), (-1, 1))]\n",
    "\n",
    "# Construct the matrix A\n",
    "A = np.array([\n",
    "    [1, x0, y0],\n",
    "    [1, x1, y1],\n",
    "    [1, x2, y2],\n",
    "    [1, x3, y3]\n",
    "]).T\n",
    "\n",
    "# Show the matrix equation\n",
    "phi_p = sp.Matrix(phi_p)\n",
    "A = sp.Matrix(A)\n",
    "b = sp.Matrix([1, xc, yc])\n",
    "\n",
    "eq = sp.Eq(b, sp.MatMul(A, phi_p))\n",
    "display(eq)\n",
    "\n",
    "eq = sp.Eq(eq.lhs, eq.rhs.doit())\n",
    "display(eq)\n",
    "\n",
    "# We are not interested in the first equation\n",
    "eq = sp.Eq(sp.Matrix(eq.lhs[1:]), eq.rhs[1:, :])\n",
    "eq"
   ]
  },
  {
   "cell_type": "markdown",
   "id": "1db201f5ec022905",
   "metadata": {
    "collapsed": false
   },
   "source": [
    "With two equations and two unknowns, the Newton-Raphson method can be implemented.\n",
    "\n",
    "$$\n",
    "\\begin{bmatrix}\n",
    "\\xi_{i+1} \\\\\n",
    "\\eta_{i+1}\n",
    "\\end{bmatrix} = \n",
    "\\begin{bmatrix}\n",
    "\\xi_{i} \\\\\n",
    "\\eta_{i}\n",
    "\\end{bmatrix} - \\bf{J}^{-1}\\bf{F}\n",
    "$$"
   ]
  },
  {
   "cell_type": "code",
   "execution_count": 3,
   "id": "9ca81cfdc30e5115",
   "metadata": {
    "collapsed": false,
    "ExecuteTime": {
     "end_time": "2024-03-07T21:51:35.302875Z",
     "start_time": "2024-03-07T21:51:35.291358Z"
    }
   },
   "outputs": [
    {
     "data": {
      "text/plain": "Matrix([\n[x0*(eta - 1)*(xi - 1)/4 - x1*(eta - 1)*(xi + 1)/4 + x2*(eta + 1)*(xi + 1)/4 - x3*(eta + 1)*(xi - 1)/4 - x_c],\n[y0*(eta - 1)*(xi - 1)/4 - y1*(eta - 1)*(xi + 1)/4 + y2*(eta + 1)*(xi + 1)/4 - y3*(eta + 1)*(xi - 1)/4 - y_c]])",
      "text/latex": "$\\displaystyle \\left[\\begin{matrix}\\frac{x_{0} \\left(\\eta - 1\\right) \\left(\\xi - 1\\right)}{4} - \\frac{x_{1} \\left(\\eta - 1\\right) \\left(\\xi + 1\\right)}{4} + \\frac{x_{2} \\left(\\eta + 1\\right) \\left(\\xi + 1\\right)}{4} - \\frac{x_{3} \\left(\\eta + 1\\right) \\left(\\xi - 1\\right)}{4} - x_{c}\\\\\\frac{y_{0} \\left(\\eta - 1\\right) \\left(\\xi - 1\\right)}{4} - \\frac{y_{1} \\left(\\eta - 1\\right) \\left(\\xi + 1\\right)}{4} + \\frac{y_{2} \\left(\\eta + 1\\right) \\left(\\xi + 1\\right)}{4} - \\frac{y_{3} \\left(\\eta + 1\\right) \\left(\\xi - 1\\right)}{4} - y_{c}\\end{matrix}\\right]$"
     },
     "execution_count": 3,
     "metadata": {},
     "output_type": "execute_result"
    }
   ],
   "source": [
    "# Construct vector function\n",
    "F = eq.rhs - eq.lhs\n",
    "F"
   ]
  },
  {
   "cell_type": "code",
   "execution_count": 4,
   "id": "b46b2962ac0a118d",
   "metadata": {
    "collapsed": false,
    "ExecuteTime": {
     "end_time": "2024-03-07T21:51:35.334203Z",
     "start_time": "2024-03-07T21:51:35.305022Z"
    }
   },
   "outputs": [
    {
     "data": {
      "text/plain": "Matrix([\n[x0*(eta - 1)/4 - x1*(eta - 1)/4 + x2*(eta + 1)/4 - x3*(eta + 1)/4, x0*(xi - 1)/4 - x1*(xi + 1)/4 + x2*(xi + 1)/4 - x3*(xi - 1)/4],\n[y0*(eta - 1)/4 - y1*(eta - 1)/4 + y2*(eta + 1)/4 - y3*(eta + 1)/4, y0*(xi - 1)/4 - y1*(xi + 1)/4 + y2*(xi + 1)/4 - y3*(xi - 1)/4]])",
      "text/latex": "$\\displaystyle \\left[\\begin{matrix}\\frac{x_{0} \\left(\\eta - 1\\right)}{4} - \\frac{x_{1} \\left(\\eta - 1\\right)}{4} + \\frac{x_{2} \\left(\\eta + 1\\right)}{4} - \\frac{x_{3} \\left(\\eta + 1\\right)}{4} & \\frac{x_{0} \\left(\\xi - 1\\right)}{4} - \\frac{x_{1} \\left(\\xi + 1\\right)}{4} + \\frac{x_{2} \\left(\\xi + 1\\right)}{4} - \\frac{x_{3} \\left(\\xi - 1\\right)}{4}\\\\\\frac{y_{0} \\left(\\eta - 1\\right)}{4} - \\frac{y_{1} \\left(\\eta - 1\\right)}{4} + \\frac{y_{2} \\left(\\eta + 1\\right)}{4} - \\frac{y_{3} \\left(\\eta + 1\\right)}{4} & \\frac{y_{0} \\left(\\xi - 1\\right)}{4} - \\frac{y_{1} \\left(\\xi + 1\\right)}{4} + \\frac{y_{2} \\left(\\xi + 1\\right)}{4} - \\frac{y_{3} \\left(\\xi - 1\\right)}{4}\\end{matrix}\\right]$"
     },
     "execution_count": 4,
     "metadata": {},
     "output_type": "execute_result"
    }
   ],
   "source": [
    "# Find the jacobian\n",
    "jac = F.jacobian([xi, eta])\n",
    "jac"
   ]
  },
  {
   "cell_type": "code",
   "execution_count": 5,
   "id": "5a37a1ae2e6c0965",
   "metadata": {
    "collapsed": false,
    "ExecuteTime": {
     "end_time": "2024-03-07T21:51:42.099884Z",
     "start_time": "2024-03-07T21:51:35.335206Z"
    }
   },
   "outputs": [
    {
     "data": {
      "text/plain": "Matrix([\n[   (-2*xi*y0 + 2*xi*y1 - 2*xi*y2 + 2*xi*y3 + 2*y0 + 2*y1 - 2*y2 - 2*y3)/(eta*x0*y1 - eta*x0*y2 - eta*x1*y0 + eta*x1*y3 + eta*x2*y0 - eta*x2*y3 - eta*x3*y1 + eta*x3*y2 + x0*xi*y2 - x0*xi*y3 - x0*y1 + x0*y3 - x1*xi*y2 + x1*xi*y3 + x1*y0 - x1*y2 - x2*xi*y0 + x2*xi*y1 + x2*y1 - x2*y3 + x3*xi*y0 - x3*xi*y1 - x3*y0 + x3*y2),      (2*x0*xi - 2*x0 - 2*x1*xi - 2*x1 + 2*x2*xi + 2*x2 - 2*x3*xi + 2*x3)/(eta*x0*y1 - eta*x0*y2 - eta*x1*y0 + eta*x1*y3 + eta*x2*y0 - eta*x2*y3 - eta*x3*y1 + eta*x3*y2 + x0*xi*y2 - x0*xi*y3 - x0*y1 + x0*y3 - x1*xi*y2 + x1*xi*y3 + x1*y0 - x1*y2 - x2*xi*y0 + x2*xi*y1 + x2*y1 - x2*y3 + x3*xi*y0 - x3*xi*y1 - x3*y0 + x3*y2)],\n[(2*eta*y0 - 2*eta*y1 + 2*eta*y2 - 2*eta*y3 - 2*y0 + 2*y1 + 2*y2 - 2*y3)/(eta*x0*y1 - eta*x0*y2 - eta*x1*y0 + eta*x1*y3 + eta*x2*y0 - eta*x2*y3 - eta*x3*y1 + eta*x3*y2 + x0*xi*y2 - x0*xi*y3 - x0*y1 + x0*y3 - x1*xi*y2 + x1*xi*y3 + x1*y0 - x1*y2 - x2*xi*y0 + x2*xi*y1 + x2*y1 - x2*y3 + x3*xi*y0 - x3*xi*y1 - x3*y0 + x3*y2), (-2*eta*x0 + 2*eta*x1 - 2*eta*x2 + 2*eta*x3 + 2*x0 - 2*x1 - 2*x2 + 2*x3)/(eta*x0*y1 - eta*x0*y2 - eta*x1*y0 + eta*x1*y3 + eta*x2*y0 - eta*x2*y3 - eta*x3*y1 + eta*x3*y2 + x0*xi*y2 - x0*xi*y3 - x0*y1 + x0*y3 - x1*xi*y2 + x1*xi*y3 + x1*y0 - x1*y2 - x2*xi*y0 + x2*xi*y1 + x2*y1 - x2*y3 + x3*xi*y0 - x3*xi*y1 - x3*y0 + x3*y2)]])",
      "text/latex": "$\\displaystyle \\left[\\begin{matrix}\\frac{- 2 \\xi y_{0} + 2 \\xi y_{1} - 2 \\xi y_{2} + 2 \\xi y_{3} + 2 y_{0} + 2 y_{1} - 2 y_{2} - 2 y_{3}}{\\eta x_{0} y_{1} - \\eta x_{0} y_{2} - \\eta x_{1} y_{0} + \\eta x_{1} y_{3} + \\eta x_{2} y_{0} - \\eta x_{2} y_{3} - \\eta x_{3} y_{1} + \\eta x_{3} y_{2} + x_{0} \\xi y_{2} - x_{0} \\xi y_{3} - x_{0} y_{1} + x_{0} y_{3} - x_{1} \\xi y_{2} + x_{1} \\xi y_{3} + x_{1} y_{0} - x_{1} y_{2} - x_{2} \\xi y_{0} + x_{2} \\xi y_{1} + x_{2} y_{1} - x_{2} y_{3} + x_{3} \\xi y_{0} - x_{3} \\xi y_{1} - x_{3} y_{0} + x_{3} y_{2}} & \\frac{2 x_{0} \\xi - 2 x_{0} - 2 x_{1} \\xi - 2 x_{1} + 2 x_{2} \\xi + 2 x_{2} - 2 x_{3} \\xi + 2 x_{3}}{\\eta x_{0} y_{1} - \\eta x_{0} y_{2} - \\eta x_{1} y_{0} + \\eta x_{1} y_{3} + \\eta x_{2} y_{0} - \\eta x_{2} y_{3} - \\eta x_{3} y_{1} + \\eta x_{3} y_{2} + x_{0} \\xi y_{2} - x_{0} \\xi y_{3} - x_{0} y_{1} + x_{0} y_{3} - x_{1} \\xi y_{2} + x_{1} \\xi y_{3} + x_{1} y_{0} - x_{1} y_{2} - x_{2} \\xi y_{0} + x_{2} \\xi y_{1} + x_{2} y_{1} - x_{2} y_{3} + x_{3} \\xi y_{0} - x_{3} \\xi y_{1} - x_{3} y_{0} + x_{3} y_{2}}\\\\\\frac{2 \\eta y_{0} - 2 \\eta y_{1} + 2 \\eta y_{2} - 2 \\eta y_{3} - 2 y_{0} + 2 y_{1} + 2 y_{2} - 2 y_{3}}{\\eta x_{0} y_{1} - \\eta x_{0} y_{2} - \\eta x_{1} y_{0} + \\eta x_{1} y_{3} + \\eta x_{2} y_{0} - \\eta x_{2} y_{3} - \\eta x_{3} y_{1} + \\eta x_{3} y_{2} + x_{0} \\xi y_{2} - x_{0} \\xi y_{3} - x_{0} y_{1} + x_{0} y_{3} - x_{1} \\xi y_{2} + x_{1} \\xi y_{3} + x_{1} y_{0} - x_{1} y_{2} - x_{2} \\xi y_{0} + x_{2} \\xi y_{1} + x_{2} y_{1} - x_{2} y_{3} + x_{3} \\xi y_{0} - x_{3} \\xi y_{1} - x_{3} y_{0} + x_{3} y_{2}} & \\frac{- 2 \\eta x_{0} + 2 \\eta x_{1} - 2 \\eta x_{2} + 2 \\eta x_{3} + 2 x_{0} - 2 x_{1} - 2 x_{2} + 2 x_{3}}{\\eta x_{0} y_{1} - \\eta x_{0} y_{2} - \\eta x_{1} y_{0} + \\eta x_{1} y_{3} + \\eta x_{2} y_{0} - \\eta x_{2} y_{3} - \\eta x_{3} y_{1} + \\eta x_{3} y_{2} + x_{0} \\xi y_{2} - x_{0} \\xi y_{3} - x_{0} y_{1} + x_{0} y_{3} - x_{1} \\xi y_{2} + x_{1} \\xi y_{3} + x_{1} y_{0} - x_{1} y_{2} - x_{2} \\xi y_{0} + x_{2} \\xi y_{1} + x_{2} y_{1} - x_{2} y_{3} + x_{3} \\xi y_{0} - x_{3} \\xi y_{1} - x_{3} y_{0} + x_{3} y_{2}}\\end{matrix}\\right]$"
     },
     "execution_count": 5,
     "metadata": {},
     "output_type": "execute_result"
    }
   ],
   "source": [
    "# Find the inverse of the jacobian\n",
    "jac_inv = jac.inv()\n",
    "jac_inv"
   ]
  },
  {
   "cell_type": "code",
   "execution_count": 6,
   "id": "1392d071b167a8f0",
   "metadata": {
    "collapsed": false,
    "ExecuteTime": {
     "end_time": "2024-03-07T21:51:42.110719Z",
     "start_time": "2024-03-07T21:51:42.101129Z"
    }
   },
   "outputs": [],
   "source": [
    "# Jacobian constructor\n",
    "# noinspection PyShadowingNames\n",
    "def jac_inv(ref_point, *surface_points):\n",
    "    x0, y0, x1, y1, x2, y2, x3, y3 = surface_points\n",
    "    xi, eta = ref_point\n",
    "    den = eta*x0*y1 - eta*x0*y2 - eta*x1*y0 + eta*x1*y3 + eta*x2*y0 - eta*x2*y3 - eta*x3*y1 + eta*x3*y2 + xi*x0*y2 - xi*x0*y3 - xi*x1*y2 + xi*x1*y3 - xi*x2*y0 + xi*x2*y1 + xi*x3*y0 - xi*x3*y1 - x0*y1 + x0*y3 + x1*y0 - x1*y2 + x2*y1 - x2*y3 - x3*y0 + x3*y2\n",
    "    \n",
    "    return np.array([\n",
    "        [-2*xi*y0 + 2*xi*y1 - 2*xi*y2 + 2*xi*y3 + 2*y0 + 2*y1 - 2*y2 - 2*y3, 2*xi*x0 - 2*xi*x1 + 2*xi*x2 - 2*xi*x3 - 2*x0 - 2*x1 + 2*x2 + 2*x3],\n",
    "        [2*eta*y0 - 2*eta*y1 + 2*eta*y2 - 2*eta*y3 - 2*y0 + 2*y1 + 2*y2 - 2*y3, -2*eta*x0 + 2*eta*x1 - 2*eta*x2 + 2*eta*x3 + 2*x0 - 2*x1 - 2*x2 + 2*x3]\n",
    "    ])/den\n",
    "\n",
    "# noinspection PyShadowingNames\n",
    "def F_vec(ref_point, contact_point, *surface_points):\n",
    "    x0, y0, x1, y1, x2, y2, x3, y3 = surface_points\n",
    "    xi, eta = ref_point\n",
    "    xc, yc = contact_point\n",
    "    return np.array([\n",
    "        x0*(eta - 1)*(xi - 1)/4 - x1*(eta - 1)*(xi + 1)/4 + x2*(eta + 1)*(xi + 1)/4 - x3*(eta + 1)*(xi - 1)/4 - xc,\n",
    "        y0*(eta - 1)*(xi - 1)/4 - y1*(eta - 1)*(xi + 1)/4 + y2*(eta + 1)*(xi + 1)/4 - y3*(eta + 1)*(xi - 1)/4 - yc\n",
    "    ])\n",
    "\n",
    "# Construct the Newton-Raphson solver function\n",
    "# noinspection PyShadowingNames\n",
    "def find_reference(guess, contact_point, surface_points, tol=1e-8):\n",
    "    x0, y0, x1, y1, x2, y2, x3, y3 = surface_points.flatten()\n",
    "    xc, yc = contact_point\n",
    "    xi, eta = guess\n",
    "    \n",
    "    i = 0\n",
    "    while not -tol <= np.linalg.norm(F_vec([xi, eta], contact_point, x0, y0, x1, y1, x2, y2, x3, y3)) <= tol:\n",
    "        xi, eta = np.array([xi, eta]) - np.matmul(jac_inv([xi, eta], x0, y0, x1, y1, x2, y2, x3, y3), F_vec([xi, eta], [xc, yc], x0, y0, x1, y1, x2, y2, x3, y3))\n",
    "        i += 1\n",
    "        if i == 100:\n",
    "            return None\n",
    "    return np.array([xi, eta])"
   ]
  },
  {
   "cell_type": "markdown",
   "id": "76c6169615e27c81",
   "metadata": {
    "collapsed": false
   },
   "source": [
    "The Sandia paper also claims that the following is a valid Newton-Raphson scheme:\n",
    "\n",
    "$$\n",
    "\\left\\{\\begin{array}{l}\n",
    "\\xi_{i+1} \\\\\n",
    "\\eta_{i+1}\n",
    "\\end{array}\\right\\}=\\left[\\begin{array}{cc}\n",
    "\\sum_{j=1}^4 x_j \\xi_j & \\sum_{j=1}^4 x_j \\eta_j \\\\\n",
    "\\sum_{j=1}^4 y_j \\xi_j & \\sum_{j=1}^4 y_j \\eta_j\n",
    "\\end{array}\\right]\\left\\{\\begin{array}{c}\n",
    "4 x-\\sum_{j=1}^4\\left(1+\\xi_j \\eta_j \\xi_i \\eta_i\\right) x_j \\\\\n",
    "4 y-\\sum_{j=1}^4\\left(1+\\xi_j \\eta_j \\xi_i \\eta_i\\right) y_j\n",
    "\\end{array}\\right\\}\n",
    "$$\n",
    "\n",
    "Both methods will be tested in the following code cells.\n",
    "\n",
    "Consider a quadrilateral surface bound by the following points:\n",
    "\n",
    "| Label | $\\xi$, $\\eta$, $\\zeta$ | $x$, $y$, $z$                        |\n",
    "|-------|------------------------|--------------------------------------|\n",
    "| 0     | $-1, -1, -1$           | $0.51025339, 0.50683559, 0.99572776$ |\n",
    "| 1     | $1, -1, -1$            | $1.17943427, 0.69225101, 1.93591633$ |\n",
    "| 2     | $1, 1, -1$             | $0.99487331, 0.99743665, 2.97094874$ |\n",
    "| 3     | $-1, 1, -1$            | $0.49444608, 0.99700943, 1.96411315$ |\n",
    "\n",
    "The contact point is $(0.92088978, 0.74145551, 1.89717136)$. The analysis omits $\\zeta$ because we already know that the contact point is on the exterior surface. For this case, $\\zeta=-1$. **Note: The implemented procedure needs to use those reference points that are changing.** For example, if contact is on the reference plane $\\eta=1$, then the process needs to solve for $\\xi$ and $\\zeta$."
   ]
  },
  {
   "cell_type": "code",
   "execution_count": 7,
   "id": "5fe68eec3cffd0ba",
   "metadata": {
    "collapsed": false,
    "ExecuteTime": {
     "end_time": "2024-03-07T21:51:42.116571Z",
     "start_time": "2024-03-07T21:51:42.112451Z"
    }
   },
   "outputs": [],
   "source": [
    "# Set up surface points\n",
    "points = np.array([\n",
    "    [0.51025339, 0.50683559, 0.99572776],\n",
    "    [1.17943427, 0.69225101, 1.93591633],\n",
    "    [0.99487331, 0.99743665, 2.97094874],\n",
    "    [0.49444608, 0.99700943, 1.96411315]\n",
    "])\n",
    "\n",
    "contact_point = np.array([0.92088978, 0.74145551, 1.89717136])  # Contact point should be in quadrant 4 on the reference plane (+xi, -eta)"
   ]
  },
  {
   "cell_type": "markdown",
   "id": "eaefade317c644f1",
   "metadata": {
    "collapsed": false
   },
   "source": [
    "Before testing the `find_reference` function, the solution can be found using `sympy` for verification."
   ]
  },
  {
   "cell_type": "code",
   "execution_count": 8,
   "id": "287b796af6a786f6",
   "metadata": {
    "collapsed": false,
    "ExecuteTime": {
     "end_time": "2024-03-07T21:51:42.224422Z",
     "start_time": "2024-03-07T21:51:42.117591Z"
    }
   },
   "outputs": [
    {
     "data": {
      "text/plain": "Matrix([\n[  0.34340496965211],\n[-0.398355474595736]])",
      "text/latex": "$\\displaystyle \\left[\\begin{matrix}0.34340496965211\\\\-0.398355474595736\\end{matrix}\\right]$"
     },
     "execution_count": 8,
     "metadata": {},
     "output_type": "execute_result"
    }
   ],
   "source": [
    "x0_, y0_, x1_, y1_, x2_, y2_, x3_, y3_ = points[:, :2].flatten()\n",
    "xc_, yc_ = contact_point[:2]\n",
    "eq_sub = eq.subs([\n",
    "    (x0, x0_),\n",
    "    (y0, y0_),\n",
    "    (x1, x1_),\n",
    "    (y1, y1_),\n",
    "    (x2, x2_),\n",
    "    (y2, y2_),\n",
    "    (x3, x3_),\n",
    "    (y3, y3_),\n",
    "    (xc, xc_),\n",
    "    (yc, yc_)\n",
    "])\n",
    "eqs = [\n",
    "    sp.Eq(eq_sub.lhs[0], eq_sub.rhs[0]),\n",
    "    sp.Eq(eq_sub.lhs[1], eq_sub.rhs[1])\n",
    "]\n",
    "sp.nsolve(eqs, (xi, eta), [0.5, -0.5])"
   ]
  },
  {
   "cell_type": "markdown",
   "id": "f14598c4cbbb491e",
   "metadata": {
    "collapsed": false
   },
   "source": [
    "Here is the result using the `find_reference` function."
   ]
  },
  {
   "cell_type": "code",
   "execution_count": 9,
   "id": "701fd21be8f6ef49",
   "metadata": {
    "collapsed": false,
    "ExecuteTime": {
     "end_time": "2024-03-07T21:51:42.232643Z",
     "start_time": "2024-03-07T21:51:42.225970Z"
    }
   },
   "outputs": [
    {
     "data": {
      "text/plain": "array([ 0.34340497, -0.39835547])"
     },
     "execution_count": 9,
     "metadata": {},
     "output_type": "execute_result"
    }
   ],
   "source": [
    "find_reference([0.5, -0.5], contact_point[:2], points[:, :2])"
   ]
  },
  {
   "cell_type": "markdown",
   "id": "93921579150c9c95",
   "metadata": {
    "collapsed": false
   },
   "source": [
    "The same result here indicates that the solving method works.\n",
    "\n",
    "For the Sandia scheme:"
   ]
  },
  {
   "cell_type": "code",
   "outputs": [
    {
     "data": {
      "text/plain": "(0.6258881729365896, -0.09832963091766227)"
     },
     "execution_count": 10,
     "metadata": {},
     "output_type": "execute_result"
    }
   ],
   "source": [
    "# Reference point map\n",
    "ref_map = np.array([\n",
    "    [-1, -1, -1],\n",
    "    [1, -1, -1],\n",
    "    [1, 1, -1],\n",
    "    [-1, 1, -1]\n",
    "])\n",
    "\n",
    "# noinspection PyShadowingNames\n",
    "def sandia_calc(guess):\n",
    "    x = points[:, 0]\n",
    "    xi_ref = ref_map[:, 0]\n",
    "    y = points[:, 1]\n",
    "    eta_ref = ref_map[:, 1]\n",
    "    \n",
    "    xc, yc = contact_point[:2]\n",
    "    xi, eta = guess\n",
    "    \n",
    "    J = np.array([\n",
    "        [sum(x*xi_ref), sum(x*eta_ref)],\n",
    "        [sum(y*xi_ref), sum(y*eta_ref)]\n",
    "    ])\n",
    "    \n",
    "    for _ in range(30):\n",
    "        p = np.array([\n",
    "            4*xc - sum((1 + xi*eta*xi_ref*eta_ref)*x),\n",
    "            4*yc - sum((1 + xi*eta*xi_ref*eta_ref)*y)\n",
    "        ])\n",
    "        xi, eta = np.matmul(J, p)\n",
    "        \n",
    "    return xi, eta\n",
    "\n",
    "sandia_calc([0.34, -0.39])"
   ],
   "metadata": {
    "collapsed": false,
    "ExecuteTime": {
     "end_time": "2024-03-07T21:51:42.245308Z",
     "start_time": "2024-03-07T21:51:42.234653Z"
    }
   },
   "id": "5f7206545091e2d5",
   "execution_count": 10
  },
  {
   "cell_type": "markdown",
   "source": [
    "The Sandia scheme is not producing correct results."
   ],
   "metadata": {
    "collapsed": false
   },
   "id": "856ac39597a27da6"
  }
 ],
 "metadata": {
  "kernelspec": {
   "display_name": "Python 3 (ipykernel)",
   "language": "python",
   "name": "python3"
  },
  "language_info": {
   "codemirror_mode": {
    "name": "ipython",
    "version": 3
   },
   "file_extension": ".py",
   "mimetype": "text/x-python",
   "name": "python",
   "nbconvert_exporter": "python",
   "pygments_lexer": "ipython3",
   "version": "3.11.6"
  }
 },
 "nbformat": 4,
 "nbformat_minor": 5
}
