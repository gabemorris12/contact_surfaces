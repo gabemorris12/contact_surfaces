{
 "cells": [
  {
   "cell_type": "code",
   "execution_count": 1,
   "id": "initial_id",
   "metadata": {
    "ExecuteTime": {
     "end_time": "2024-03-13T00:00:59.121894Z",
     "start_time": "2024-03-13T00:00:58.550834Z"
    }
   },
   "outputs": [],
   "source": [
    "import sympy as sp\n",
    "import numpy as np\n",
    "\n",
    "xc, yc = sp.symbols('x_c y_c')  # x and y values of contact point\n",
    "xi, eta = sp.symbols(r'xi eta')  # reference coordinate variables\n",
    "p, n = sp.symbols('p n')  # p is the index of an array and n is the total number of points\n",
    "xp, yp = sp.Function('x'), sp.Function('y')  # x and y components of a vector\n",
    "xi_p, eta_p = sp.Function(r'\\xi'), sp.Function(r'\\eta')  # xi and eta points that make up the boundary of the surface (either 1 or -1 always)"
   ]
  },
  {
   "cell_type": "markdown",
   "id": "ef06680364c7eef7",
   "metadata": {
    "collapsed": false
   },
   "source": [
    "![Figure 1](Figures/Contact%20Point.png)\n",
    "\n",
    "This demo is provided for constructing the set of non-linear functions to solve for the $\\xi$ and $\\eta$ reference coordinates of the contact point and construct a Newton-Raphson scheme.\n",
    "\n",
    "For mapping a reference point $(\\xi,\\eta)$ to the global/actual position point ($\\vec{s}$), we use the following\n",
    "\n",
    "$$\\vec{s}=\\sum_{p=0}^{n - 1}\\phi_p(\\xi,\\eta)\\vec{s}_p$$\n",
    "\n",
    "where $\\phi_p(\\xi,\\eta)=\\frac{1}{4}(1+\\xi_p\\xi)(1+\\eta_p\\eta)$ is the basis/shape function for 2D corresponding to a known reference point $\\vec{s}_p$. The position point has components\n",
    "\n",
    "$$\n",
    "\\vec{s}_p=\n",
    "\\begin{bmatrix}\n",
    "x_p \\\\\n",
    "y_p\n",
    "\\end{bmatrix}\n",
    "$$\n",
    "\n",
    "At some contact point $(\\xi_c,\\eta_c)$, we can set up the following equation below to be analyzed."
   ]
  },
  {
   "cell_type": "code",
   "outputs": [
    {
     "data": {
      "text/plain": "Eq(Matrix([\n[x_c],\n[y_c]]), Sum(Matrix([\n[\\phi_p(xi, eta)*x(p)],\n[\\phi_p(xi, eta)*y(p)]]), (p, 0, n - 1)))",
      "text/latex": "$\\displaystyle \\left[\\begin{matrix}x_{c}\\\\y_{c}\\end{matrix}\\right] = \\sum_{p=0}^{n - 1} \\left[\\begin{matrix}\\phi_{p}{\\left(\\xi,\\eta \\right)} x{\\left(p \\right)}\\\\\\phi_{p}{\\left(\\xi,\\eta \\right)} y{\\left(p \\right)}\\end{matrix}\\right]$"
     },
     "metadata": {},
     "output_type": "display_data"
    },
    {
     "data": {
      "text/plain": "Eq(Matrix([\n[x_c],\n[y_c]]), Sum(Matrix([\n[(eta*\\eta(p) + 1)*(xi*\\xi(p) + 1)*x(p)/4],\n[(eta*\\eta(p) + 1)*(xi*\\xi(p) + 1)*y(p)/4]]), (p, 0, n - 1)))",
      "text/latex": "$\\displaystyle \\left[\\begin{matrix}x_{c}\\\\y_{c}\\end{matrix}\\right] = \\sum_{p=0}^{n - 1} \\left[\\begin{matrix}\\frac{\\left(\\eta \\eta{\\left(p \\right)} + 1\\right) \\left(\\xi \\xi{\\left(p \\right)} + 1\\right) x{\\left(p \\right)}}{4}\\\\\\frac{\\left(\\eta \\eta{\\left(p \\right)} + 1\\right) \\left(\\xi \\xi{\\left(p \\right)} + 1\\right) y{\\left(p \\right)}}{4}\\end{matrix}\\right]$"
     },
     "metadata": {},
     "output_type": "display_data"
    }
   ],
   "source": [
    "phi_p = (sp.Rational(1, 4)*(1 + xi*xi_p(p))*(1 + eta*eta_p(p))).simplify()  # shape function in 2D space\n",
    "phi_p_func = sp.Function(r'\\phi_p')(xi, eta)\n",
    "s_p = sp.Matrix([xp(p), yp(p)])  # Position vector of surface point\n",
    "b = sp.Matrix([xc, yc])\n",
    "\n",
    "eq = sp.Eq(b, sp.Sum(phi_p_func*s_p, (p, 0, n - 1)), evaluate=False)\n",
    "display(eq)\n",
    "eq1 = sp.Eq(b, sp.Sum(phi_p*s_p, (p, 0, n - 1)), evaluate=False)\n",
    "display(eq1)"
   ],
   "metadata": {
    "collapsed": false,
    "ExecuteTime": {
     "end_time": "2024-03-13T00:00:59.290958Z",
     "start_time": "2024-03-13T00:00:59.123007Z"
    }
   },
   "id": "f3b9fd6d1529c31f",
   "execution_count": 2
  },
  {
   "cell_type": "markdown",
   "source": [
    "The $x(p)$, $\\xi(p)$, and so on should be interpreted as $x_p$, $\\xi_p$, and so on. This is how we can use `sympy` to symbolically construct the Newton-Raphson scheme in terms of reference points. For the Newton-Raphson scheme, we have\n",
    "\n",
    "$$\n",
    "\\begin{bmatrix}\n",
    "\\xi_{i+1} \\\\\n",
    "\\eta_{i+1} \n",
    "\\end{bmatrix} = \n",
    "\\begin{bmatrix}\n",
    "\\xi_i \\\\\n",
    "\\eta_i\n",
    "\\end{bmatrix} - \\bf{J^{-1}}F\n",
    "$$"
   ],
   "metadata": {
    "collapsed": false
   },
   "id": "b3059398d529a460"
  },
  {
   "cell_type": "code",
   "outputs": [
    {
     "data": {
      "text/plain": "Matrix([\n[-x_c + Sum(eta*xi*\\eta(p)*\\xi(p)*x(p)/4 + eta*\\eta(p)*x(p)/4 + xi*\\xi(p)*x(p)/4 + x(p)/4, (p, 0, n - 1))],\n[-y_c + Sum(eta*xi*\\eta(p)*\\xi(p)*y(p)/4 + eta*\\eta(p)*y(p)/4 + xi*\\xi(p)*y(p)/4 + y(p)/4, (p, 0, n - 1))]])",
      "text/latex": "$\\displaystyle \\left[\\begin{matrix}- x_{c} + \\sum_{p=0}^{n - 1} \\left(\\frac{\\eta \\xi \\eta{\\left(p \\right)} \\xi{\\left(p \\right)} x{\\left(p \\right)}}{4} + \\frac{\\eta \\eta{\\left(p \\right)} x{\\left(p \\right)}}{4} + \\frac{\\xi \\xi{\\left(p \\right)} x{\\left(p \\right)}}{4} + \\frac{x{\\left(p \\right)}}{4}\\right)\\\\- y_{c} + \\sum_{p=0}^{n - 1} \\left(\\frac{\\eta \\xi \\eta{\\left(p \\right)} \\xi{\\left(p \\right)} y{\\left(p \\right)}}{4} + \\frac{\\eta \\eta{\\left(p \\right)} y{\\left(p \\right)}}{4} + \\frac{\\xi \\xi{\\left(p \\right)} y{\\left(p \\right)}}{4} + \\frac{y{\\left(p \\right)}}{4}\\right)\\end{matrix}\\right]$"
     },
     "execution_count": 3,
     "metadata": {},
     "output_type": "execute_result"
    }
   ],
   "source": [
    "# Constructing the vector function F\n",
    "F = eq1.rhs.doit() - eq1.lhs\n",
    "F"
   ],
   "metadata": {
    "collapsed": false,
    "ExecuteTime": {
     "end_time": "2024-03-13T00:00:59.869896Z",
     "start_time": "2024-03-13T00:00:59.292004Z"
    }
   },
   "id": "ac6fa1b53ca50697",
   "execution_count": 3
  },
  {
   "cell_type": "code",
   "outputs": [
    {
     "data": {
      "text/plain": "Matrix([\n[Sum(eta*\\eta(p)*\\xi(p)*x(p)/4 + \\xi(p)*x(p)/4, (p, 0, n - 1)), Sum(xi*\\eta(p)*\\xi(p)*x(p)/4 + \\eta(p)*x(p)/4, (p, 0, n - 1))],\n[Sum(eta*\\eta(p)*\\xi(p)*y(p)/4 + \\xi(p)*y(p)/4, (p, 0, n - 1)), Sum(xi*\\eta(p)*\\xi(p)*y(p)/4 + \\eta(p)*y(p)/4, (p, 0, n - 1))]])",
      "text/latex": "$\\displaystyle \\left[\\begin{matrix}\\sum_{p=0}^{n - 1} \\left(\\frac{\\eta \\eta{\\left(p \\right)} \\xi{\\left(p \\right)} x{\\left(p \\right)}}{4} + \\frac{\\xi{\\left(p \\right)} x{\\left(p \\right)}}{4}\\right) & \\sum_{p=0}^{n - 1} \\left(\\frac{\\xi \\eta{\\left(p \\right)} \\xi{\\left(p \\right)} x{\\left(p \\right)}}{4} + \\frac{\\eta{\\left(p \\right)} x{\\left(p \\right)}}{4}\\right)\\\\\\sum_{p=0}^{n - 1} \\left(\\frac{\\eta \\eta{\\left(p \\right)} \\xi{\\left(p \\right)} y{\\left(p \\right)}}{4} + \\frac{\\xi{\\left(p \\right)} y{\\left(p \\right)}}{4}\\right) & \\sum_{p=0}^{n - 1} \\left(\\frac{\\xi \\eta{\\left(p \\right)} \\xi{\\left(p \\right)} y{\\left(p \\right)}}{4} + \\frac{\\eta{\\left(p \\right)} y{\\left(p \\right)}}{4}\\right)\\end{matrix}\\right]$"
     },
     "execution_count": 4,
     "metadata": {},
     "output_type": "execute_result"
    }
   ],
   "source": [
    "# Constructing the jacobian J\n",
    "jac = F.jacobian([xi, eta])\n",
    "jac"
   ],
   "metadata": {
    "collapsed": false,
    "ExecuteTime": {
     "end_time": "2024-03-13T00:00:59.902382Z",
     "start_time": "2024-03-13T00:00:59.871003Z"
    }
   },
   "id": "2a5474eebfcb3a46",
   "execution_count": 4
  },
  {
   "cell_type": "code",
   "outputs": [
    {
     "data": {
      "text/plain": "Matrix([\n[ Sum(xi*\\eta(p)*\\xi(p)*y(p)/4 + \\eta(p)*y(p)/4, (p, 0, n - 1))/(Sum(eta*\\eta(p)*\\xi(p)*x(p)/4 + \\xi(p)*x(p)/4, (p, 0, n - 1))*Sum(xi*\\eta(p)*\\xi(p)*y(p)/4 + \\eta(p)*y(p)/4, (p, 0, n - 1)) - Sum(eta*\\eta(p)*\\xi(p)*y(p)/4 + \\xi(p)*y(p)/4, (p, 0, n - 1))*Sum(xi*\\eta(p)*\\xi(p)*x(p)/4 + \\eta(p)*x(p)/4, (p, 0, n - 1))), -Sum(xi*\\eta(p)*\\xi(p)*x(p)/4 + \\eta(p)*x(p)/4, (p, 0, n - 1))/(Sum(eta*\\eta(p)*\\xi(p)*x(p)/4 + \\xi(p)*x(p)/4, (p, 0, n - 1))*Sum(xi*\\eta(p)*\\xi(p)*y(p)/4 + \\eta(p)*y(p)/4, (p, 0, n - 1)) - Sum(eta*\\eta(p)*\\xi(p)*y(p)/4 + \\xi(p)*y(p)/4, (p, 0, n - 1))*Sum(xi*\\eta(p)*\\xi(p)*x(p)/4 + \\eta(p)*x(p)/4, (p, 0, n - 1)))],\n[-Sum(eta*\\eta(p)*\\xi(p)*y(p)/4 + \\xi(p)*y(p)/4, (p, 0, n - 1))/(Sum(eta*\\eta(p)*\\xi(p)*x(p)/4 + \\xi(p)*x(p)/4, (p, 0, n - 1))*Sum(xi*\\eta(p)*\\xi(p)*y(p)/4 + \\eta(p)*y(p)/4, (p, 0, n - 1)) - Sum(eta*\\eta(p)*\\xi(p)*y(p)/4 + \\xi(p)*y(p)/4, (p, 0, n - 1))*Sum(xi*\\eta(p)*\\xi(p)*x(p)/4 + \\eta(p)*x(p)/4, (p, 0, n - 1))),  Sum(eta*\\eta(p)*\\xi(p)*x(p)/4 + \\xi(p)*x(p)/4, (p, 0, n - 1))/(Sum(eta*\\eta(p)*\\xi(p)*x(p)/4 + \\xi(p)*x(p)/4, (p, 0, n - 1))*Sum(xi*\\eta(p)*\\xi(p)*y(p)/4 + \\eta(p)*y(p)/4, (p, 0, n - 1)) - Sum(eta*\\eta(p)*\\xi(p)*y(p)/4 + \\xi(p)*y(p)/4, (p, 0, n - 1))*Sum(xi*\\eta(p)*\\xi(p)*x(p)/4 + \\eta(p)*x(p)/4, (p, 0, n - 1)))]])",
      "text/latex": "$\\displaystyle \\left[\\begin{matrix}\\frac{\\sum_{p=0}^{n - 1} \\left(\\frac{\\xi \\eta{\\left(p \\right)} \\xi{\\left(p \\right)} y{\\left(p \\right)}}{4} + \\frac{\\eta{\\left(p \\right)} y{\\left(p \\right)}}{4}\\right)}{\\left(\\sum_{p=0}^{n - 1} \\left(\\frac{\\eta \\eta{\\left(p \\right)} \\xi{\\left(p \\right)} x{\\left(p \\right)}}{4} + \\frac{\\xi{\\left(p \\right)} x{\\left(p \\right)}}{4}\\right)\\right) \\sum_{p=0}^{n - 1} \\left(\\frac{\\xi \\eta{\\left(p \\right)} \\xi{\\left(p \\right)} y{\\left(p \\right)}}{4} + \\frac{\\eta{\\left(p \\right)} y{\\left(p \\right)}}{4}\\right) - \\left(\\sum_{p=0}^{n - 1} \\left(\\frac{\\eta \\eta{\\left(p \\right)} \\xi{\\left(p \\right)} y{\\left(p \\right)}}{4} + \\frac{\\xi{\\left(p \\right)} y{\\left(p \\right)}}{4}\\right)\\right) \\sum_{p=0}^{n - 1} \\left(\\frac{\\xi \\eta{\\left(p \\right)} \\xi{\\left(p \\right)} x{\\left(p \\right)}}{4} + \\frac{\\eta{\\left(p \\right)} x{\\left(p \\right)}}{4}\\right)} & - \\frac{\\sum_{p=0}^{n - 1} \\left(\\frac{\\xi \\eta{\\left(p \\right)} \\xi{\\left(p \\right)} x{\\left(p \\right)}}{4} + \\frac{\\eta{\\left(p \\right)} x{\\left(p \\right)}}{4}\\right)}{\\left(\\sum_{p=0}^{n - 1} \\left(\\frac{\\eta \\eta{\\left(p \\right)} \\xi{\\left(p \\right)} x{\\left(p \\right)}}{4} + \\frac{\\xi{\\left(p \\right)} x{\\left(p \\right)}}{4}\\right)\\right) \\sum_{p=0}^{n - 1} \\left(\\frac{\\xi \\eta{\\left(p \\right)} \\xi{\\left(p \\right)} y{\\left(p \\right)}}{4} + \\frac{\\eta{\\left(p \\right)} y{\\left(p \\right)}}{4}\\right) - \\left(\\sum_{p=0}^{n - 1} \\left(\\frac{\\eta \\eta{\\left(p \\right)} \\xi{\\left(p \\right)} y{\\left(p \\right)}}{4} + \\frac{\\xi{\\left(p \\right)} y{\\left(p \\right)}}{4}\\right)\\right) \\sum_{p=0}^{n - 1} \\left(\\frac{\\xi \\eta{\\left(p \\right)} \\xi{\\left(p \\right)} x{\\left(p \\right)}}{4} + \\frac{\\eta{\\left(p \\right)} x{\\left(p \\right)}}{4}\\right)}\\\\- \\frac{\\sum_{p=0}^{n - 1} \\left(\\frac{\\eta \\eta{\\left(p \\right)} \\xi{\\left(p \\right)} y{\\left(p \\right)}}{4} + \\frac{\\xi{\\left(p \\right)} y{\\left(p \\right)}}{4}\\right)}{\\left(\\sum_{p=0}^{n - 1} \\left(\\frac{\\eta \\eta{\\left(p \\right)} \\xi{\\left(p \\right)} x{\\left(p \\right)}}{4} + \\frac{\\xi{\\left(p \\right)} x{\\left(p \\right)}}{4}\\right)\\right) \\sum_{p=0}^{n - 1} \\left(\\frac{\\xi \\eta{\\left(p \\right)} \\xi{\\left(p \\right)} y{\\left(p \\right)}}{4} + \\frac{\\eta{\\left(p \\right)} y{\\left(p \\right)}}{4}\\right) - \\left(\\sum_{p=0}^{n - 1} \\left(\\frac{\\eta \\eta{\\left(p \\right)} \\xi{\\left(p \\right)} y{\\left(p \\right)}}{4} + \\frac{\\xi{\\left(p \\right)} y{\\left(p \\right)}}{4}\\right)\\right) \\sum_{p=0}^{n - 1} \\left(\\frac{\\xi \\eta{\\left(p \\right)} \\xi{\\left(p \\right)} x{\\left(p \\right)}}{4} + \\frac{\\eta{\\left(p \\right)} x{\\left(p \\right)}}{4}\\right)} & \\frac{\\sum_{p=0}^{n - 1} \\left(\\frac{\\eta \\eta{\\left(p \\right)} \\xi{\\left(p \\right)} x{\\left(p \\right)}}{4} + \\frac{\\xi{\\left(p \\right)} x{\\left(p \\right)}}{4}\\right)}{\\left(\\sum_{p=0}^{n - 1} \\left(\\frac{\\eta \\eta{\\left(p \\right)} \\xi{\\left(p \\right)} x{\\left(p \\right)}}{4} + \\frac{\\xi{\\left(p \\right)} x{\\left(p \\right)}}{4}\\right)\\right) \\sum_{p=0}^{n - 1} \\left(\\frac{\\xi \\eta{\\left(p \\right)} \\xi{\\left(p \\right)} y{\\left(p \\right)}}{4} + \\frac{\\eta{\\left(p \\right)} y{\\left(p \\right)}}{4}\\right) - \\left(\\sum_{p=0}^{n - 1} \\left(\\frac{\\eta \\eta{\\left(p \\right)} \\xi{\\left(p \\right)} y{\\left(p \\right)}}{4} + \\frac{\\xi{\\left(p \\right)} y{\\left(p \\right)}}{4}\\right)\\right) \\sum_{p=0}^{n - 1} \\left(\\frac{\\xi \\eta{\\left(p \\right)} \\xi{\\left(p \\right)} x{\\left(p \\right)}}{4} + \\frac{\\eta{\\left(p \\right)} x{\\left(p \\right)}}{4}\\right)}\\end{matrix}\\right]$"
     },
     "execution_count": 5,
     "metadata": {},
     "output_type": "execute_result"
    }
   ],
   "source": [
    "# Construct the inverse jacobian J^{-1}\n",
    "jac_inv = jac.inv()\n",
    "jac_inv"
   ],
   "metadata": {
    "collapsed": false,
    "ExecuteTime": {
     "end_time": "2024-03-13T00:01:03.313852Z",
     "start_time": "2024-03-13T00:00:59.903400Z"
    }
   },
   "id": "8c965d3f974c614",
   "execution_count": 5
  },
  {
   "cell_type": "code",
   "outputs": [
    {
     "data": {
      "text/plain": "Matrix([\n[ Sum(xi*\\eta(p)*\\xi(p)*y(p)/4 + \\eta(p)*y(p)/4, (p, 0, n - 1))/d, -Sum(xi*\\eta(p)*\\xi(p)*x(p)/4 + \\eta(p)*x(p)/4, (p, 0, n - 1))/d],\n[-Sum(eta*\\eta(p)*\\xi(p)*y(p)/4 + \\xi(p)*y(p)/4, (p, 0, n - 1))/d,  Sum(eta*\\eta(p)*\\xi(p)*x(p)/4 + \\xi(p)*x(p)/4, (p, 0, n - 1))/d]])",
      "text/latex": "$\\displaystyle \\left[\\begin{matrix}\\frac{\\sum_{p=0}^{n - 1} \\left(\\frac{\\xi \\eta{\\left(p \\right)} \\xi{\\left(p \\right)} y{\\left(p \\right)}}{4} + \\frac{\\eta{\\left(p \\right)} y{\\left(p \\right)}}{4}\\right)}{d} & - \\frac{\\sum_{p=0}^{n - 1} \\left(\\frac{\\xi \\eta{\\left(p \\right)} \\xi{\\left(p \\right)} x{\\left(p \\right)}}{4} + \\frac{\\eta{\\left(p \\right)} x{\\left(p \\right)}}{4}\\right)}{d}\\\\- \\frac{\\sum_{p=0}^{n - 1} \\left(\\frac{\\eta \\eta{\\left(p \\right)} \\xi{\\left(p \\right)} y{\\left(p \\right)}}{4} + \\frac{\\xi{\\left(p \\right)} y{\\left(p \\right)}}{4}\\right)}{d} & \\frac{\\sum_{p=0}^{n - 1} \\left(\\frac{\\eta \\eta{\\left(p \\right)} \\xi{\\left(p \\right)} x{\\left(p \\right)}}{4} + \\frac{\\xi{\\left(p \\right)} x{\\left(p \\right)}}{4}\\right)}{d}\\end{matrix}\\right]$"
     },
     "execution_count": 6,
     "metadata": {},
     "output_type": "execute_result"
    }
   ],
   "source": [
    "# The denominator of each item is messy\n",
    "# To clean it up, I'm replacing it with a variable \"d\"\n",
    "a11 = jac_inv[0, 0]\n",
    "_, d = sp.fraction(a11)\n",
    "jac_inv.subs(d, sp.Symbol(\"d\"))"
   ],
   "metadata": {
    "collapsed": false,
    "ExecuteTime": {
     "end_time": "2024-03-13T00:01:03.329873Z",
     "start_time": "2024-03-13T00:01:03.314435Z"
    }
   },
   "id": "a99a1a8f0a13a54f",
   "execution_count": 6
  },
  {
   "cell_type": "markdown",
   "source": [
    "In summary, we have \n",
    "\n",
    "$$\n",
    "F=\\left[\\begin{matrix}- x_{c} + \\sum_{p=0}^{n - 1} \\left(\\frac{\\eta \\xi \\eta_p \\xi_p x_p}{4} + \\frac{\\eta \\eta_p x_p}{4} + \\frac{\\xi \\xi_p x_p}{4} + \\frac{x_p}{4}\\right)\\\\- y_{c} + \\sum_{p=0}^{n - 1} \\left(\\frac{\\eta \\xi \\eta_p \\xi_p y_p}{4} + \\frac{\\eta \\eta_p y_p}{4} + \\frac{\\xi \\xi_p y_p}{4} + \\frac{y_p}{4}\\right)\\end{matrix}\\right]\n",
    "$$\n",
    "\n",
    "$$\n",
    "J=\\left[\\begin{matrix}\\sum_{p=0}^{n - 1} \\left(\\frac{\\eta \\eta_p \\xi_p x_p}{4} + \\frac{\\xi_p x_p}{4}\\right) & \\sum_{p=0}^{n - 1} \\left(\\frac{\\xi \\eta_p \\xi_p x_p}{4} + \\frac{\\eta_p x_p}{4}\\right)\\\\\\sum_{p=0}^{n - 1} \\left(\\frac{\\eta \\eta_p \\xi_p y_p}{4} + \\frac{\\xi_p y_p}{4}\\right) & \\sum_{p=0}^{n - 1} \\left(\\frac{\\xi \\eta_p \\xi_p y_p}{4} + \\frac{\\eta_p y_p}{4}\\right)\\end{matrix}\\right]\n",
    "$$\n",
    "\n",
    "$$\n",
    "J^{-1}=\\left[\\begin{matrix}\\frac{\\sum_{p=0}^{n - 1} \\left(\\frac{\\xi \\eta_p \\xi_p y_p}{4} + \\frac{\\eta_p y_p}{4}\\right)}{d} & - \\frac{\\sum_{p=0}^{n - 1} \\left(\\frac{\\xi \\eta_p \\xi_p x_p}{4} + \\frac{\\eta_p x_p}{4}\\right)}{d}\\\\- \\frac{\\sum_{p=0}^{n - 1} \\left(\\frac{\\eta \\eta_p \\xi_p y_p}{4} + \\frac{\\xi_p y_p}{4}\\right)}{d} & \\frac{\\sum_{p=0}^{n - 1} \\left(\\frac{\\eta \\eta_p \\xi_p x_p}{4} + \\frac{\\xi_p x_p}{4}\\right)}{d}\\end{matrix}\\right]\n",
    "$$\n",
    "\n",
    "where \n",
    "$$\n",
    "d=\\left(\\sum_{p=0}^{n - 1} \\left(\\frac{\\eta \\eta_p \\xi_p x_p}{4} + \\frac{\\xi_p x_p}{4}\\right)\\right) \\sum_{p=0}^{n - 1} \\left(\\frac{\\xi \\eta_p \\xi_p y_p}{4} + \\frac{\\eta_p y_p}{4}\\right) - \\left(\\sum_{p=0}^{n - 1} \\left(\\frac{\\eta \\eta_p \\xi_p y_p}{4} + \\frac{\\xi_p y_p}{4}\\right)\\right) \\sum_{p=0}^{n - 1} \\left(\\frac{\\xi \\eta_p \\xi_p x_p}{4} + \\frac{\\eta_p x_p}{4}\\right)\n",
    "$$\n",
    "\n",
    "The code below is the numerical implementation of this scheme."
   ],
   "metadata": {
    "collapsed": false
   },
   "id": "38c1dc2eed7fc54c"
  },
  {
   "cell_type": "code",
   "outputs": [],
   "source": [
    "class Node:\n",
    "    def __init__(self, pos, ref_pos):\n",
    "        \"\"\"\n",
    "        :param pos: Physical position array \n",
    "        :param ref_pos: Reference position array\n",
    "        \"\"\"\n",
    "        self.x, self.y, self.z = pos\n",
    "        self.xi, self.eta, self.zeta = ref_pos\n",
    "\n",
    "def get_F(reference_point, physical_point, nodes):\n",
    "    xi_, eta_ = reference_point\n",
    "    xc_, yc_ = physical_point\n",
    "    return np.array([\n",
    "        0.25*sum([eta_*xi_*p_.eta*p_.xi*p_.x + eta_*p_.eta*p_.x + xi_*p_.xi*p_.x + p_.x for p_ in nodes]) - xc_,\n",
    "        0.25*sum([eta_*xi_*p_.eta*p_.xi*p_.y + eta_*p_.eta*p_.y + xi_*p_.xi*p_.y + p_.y for p_ in nodes]) - yc_\n",
    "    ])\n",
    "\n",
    "def get_jacobian_inverse(reference_point, nodes):\n",
    "    xi_, eta_ = reference_point\n",
    "    den = (sum([eta_*p_.eta*p_.xi*p_.x + p_.xi*p_.x for p_ in nodes])/4*sum([xi_*p_.eta*p_.xi*p_.y + p_.eta*p_.y for p_ in nodes])/4 - \n",
    "         sum([eta_*p_.eta*p_.xi*p_.y + p_.xi*p_.y for p_ in nodes])/4*sum([xi_*p_.eta*p_.xi*p_.x + p_.eta*p_.x for p_ in nodes])/4)\n",
    "    return np.array([\n",
    "        [sum([xi_*p_.eta*p_.xi*p_.y + p_.eta*p_.y for p_ in nodes])/4/den, -sum([xi_*p_.eta*p_.xi*p_.x + p_.eta*p_.x for p_ in nodes])/4/den],\n",
    "        [-sum([eta_*p_.eta*p_.xi*p_.y + p_.xi*p_.y for p_ in nodes])/4/den, sum([eta_*p_.eta*p_.xi*p_.x + p_.xi*p_.x for p_ in nodes])/4/den]\n",
    "    ])\n",
    "\n",
    "def newton_raphson(reference_point, physical_point, nodes, tol=1e-8, max_iter=100):\n",
    "    xi_, eta_ = reference_point\n",
    "    for i in range(max_iter):\n",
    "        F_ = get_F([xi_, eta_], physical_point, nodes)\n",
    "        jac_inv_ = get_jacobian_inverse([xi_, eta_], nodes)\n",
    "        xi_, eta_ = np.array([xi_, eta_]) - jac_inv_ @ F_\n",
    "        if np.linalg.norm(F_) < tol:\n",
    "            break\n",
    "    # noinspection PyUnboundLocalVariable\n",
    "    return np.array([xi_, eta_]), i"
   ],
   "metadata": {
    "collapsed": false,
    "ExecuteTime": {
     "end_time": "2024-03-13T00:01:03.339585Z",
     "start_time": "2024-03-13T00:01:03.330381Z"
    }
   },
   "id": "c5e749678b524bf4",
   "execution_count": 7
  },
  {
   "cell_type": "markdown",
   "id": "76c6169615e27c81",
   "metadata": {
    "collapsed": false
   },
   "source": [
    "Consider a quadrilateral surface bound by the following points:\n",
    "\n",
    "| Label | $\\xi$, $\\eta$, $\\zeta$ | $x$, $y$, $z$                        |\n",
    "|-------|------------------------|--------------------------------------|\n",
    "| 0     | $-1, -1, -1$           | $0.51025339, 0.50683559, 0.99572776$ |\n",
    "| 1     | $1, -1, -1$            | $1.17943427, 0.69225101, 1.93591633$ |\n",
    "| 2     | $1, 1, -1$             | $0.99487331, 0.99743665, 2.97094874$ |\n",
    "| 3     | $-1, 1, -1$            | $0.49444608, 0.99700943, 1.96411315$ |\n",
    "\n",
    "The contact point is $(0.92088978, 0.74145551, 1.89717136)$. The analysis omits $\\zeta$ because we already know that the contact point is on the exterior surface. For this case, $\\zeta=-1$. **Note: The implemented procedure needs to use those reference points that are changing.** For example, if contact is on the reference plane $\\eta=1$, then the process needs to solve for $\\xi$ and $\\zeta$."
   ]
  },
  {
   "cell_type": "code",
   "outputs": [
    {
     "data": {
      "text/plain": "(array([ 0.34340497, -0.39835547]), 3)"
     },
     "execution_count": 8,
     "metadata": {},
     "output_type": "execute_result"
    }
   ],
   "source": [
    "patch_nodes = [\n",
    "    Node([0.51025339, 0.50683559, 0.99572776], [-1, -1, -1]),\n",
    "    Node([1.17943427, 0.69225101, 1.93591633], [1, -1, -1]),\n",
    "    Node([0.99487331, 0.99743665, 2.97094874], [1, 1, -1]),\n",
    "    Node([0.49444608, 0.99700943, 1.96411315], [-1, 1, -1])\n",
    "]\n",
    "\n",
    "newton_raphson([0.5, -0.5], [0.92088978, 0.74145551], patch_nodes)"
   ],
   "metadata": {
    "collapsed": false,
    "ExecuteTime": {
     "end_time": "2024-03-13T00:01:03.347262Z",
     "start_time": "2024-03-13T00:01:03.340688Z"
    }
   },
   "id": "c9c64760f6c4db3b",
   "execution_count": 8
  }
 ],
 "metadata": {
  "kernelspec": {
   "display_name": "Python 3 (ipykernel)",
   "language": "python",
   "name": "python3"
  },
  "language_info": {
   "codemirror_mode": {
    "name": "ipython",
    "version": 3
   },
   "file_extension": ".py",
   "mimetype": "text/x-python",
   "name": "python",
   "nbconvert_exporter": "python",
   "pygments_lexer": "ipython3",
   "version": "3.11.6"
  }
 },
 "nbformat": 4,
 "nbformat_minor": 5
}
